{
 "cells": [
  {
   "cell_type": "code",
   "execution_count": 16,
   "id": "9ffab892",
   "metadata": {},
   "outputs": [],
   "source": [
    "import numpy as np\n",
    "import pandas as pd\n",
    "import time\n",
    "from random import randint\n",
    "import time"
   ]
  },
  {
   "cell_type": "code",
   "execution_count": 17,
   "id": "7ad4313d",
   "metadata": {},
   "outputs": [],
   "source": [
    "import copy\n",
    "class Graph:\n",
    "    def __init__(self, graph_dict):\n",
    "        self.graph_dict = graph_dict\n",
    " \n",
    "    def neighbors(self, v):\n",
    "        return self.graph_dict[v]\n",
    " \n",
    "    def h(self, n):\n",
    "        return H(n)\n",
    "    def iterative_deepening_a_star(self,start, goal):\n",
    "        if start not in cities_lst or goal not in cities_lst:\n",
    "            raise Exception('city name incorrect')\n",
    "        min_fringe=0\n",
    "        threshold=self.h(start)\n",
    "        self.u=0\n",
    "        count_node=[]\n",
    "        def IDA(start, goal, threshold, min_fringe):\n",
    "            global path_cost\n",
    "            global par\n",
    "            global real_path\n",
    "            global par1\n",
    "            global s\n",
    "            global u\n",
    "            global count\n",
    "            global visited\n",
    "            global visited1\n",
    "            global min_goal\n",
    "            li=0\n",
    "            count=0\n",
    "            s=0\n",
    "            par=dict()\n",
    "            visited=[]\n",
    "            visited1=[]\n",
    "            stack=[[start,0]]\n",
    "            min_goal=float('inf')\n",
    "            while len(stack)!=0:\n",
    "#                 print('PAR:', par)                \n",
    "#                 print(visited)\n",
    "#                 print('stack: ', stack[-1])\n",
    "#                 print('stack', stack)\n",
    "                if (len(stack))<=li:\n",
    "                    visited.pop()\n",
    "                node, cost1=stack.pop()\n",
    "                \n",
    "                visited.append((node))\n",
    "                li=len(stack)\n",
    "                \n",
    "            \n",
    "                if node==goal:\n",
    "                    s+=1\n",
    "                    # save the shortest route to destination\n",
    "                    if cost1<min_goal:\n",
    "                        min_goal=cost1\n",
    "                        par1=par.copy()\n",
    "                #check whether its neighbor's value of f surpass threshold\n",
    "                for m, weight in self.neighbors(node): \n",
    "                    p=(m,weight)\n",
    "                    \n",
    "                    if p not in visited:\n",
    "                        \n",
    "                        count+=1\n",
    "                        path_cost=cost1+weight+self.h(m)\n",
    "                        \n",
    "#                         print('FF: ', m, path_cost)\n",
    "                        #if f(neighbor)> threshold => put it in the fringe, the new threshold will be the smallest value in the fringe\n",
    "                        if path_cost> threshold:\n",
    "                            if path_cost<min_fringe:\n",
    "                                min_fringe=path_cost                            \n",
    "                        else:\n",
    "                            par[(m, path_cost-self.h(m))] = (node,cost1)\n",
    "                            stack.append([m,path_cost-self.h(m)])\n",
    "                            \n",
    "            self.u=min_fringe\n",
    "        while True:      \n",
    "            min_fringe=float('inf')\n",
    "            IDA(start,goal,threshold, min_fringe)\n",
    "            count_node.append(count)\n",
    "            threshold=self.u\n",
    "            if s!=0:\n",
    "                break     \n",
    "        print('number of nodes expanded in each iterative: ', count_node)\n",
    "        print('total nodes expanded: ', sum(count_node))\n",
    "        curr = (goal, min_goal)\n",
    "        #print path\n",
    "        lst=[]\n",
    "        while (curr != None):\n",
    "            lst.append(curr)\n",
    "            if curr==(start,0):\n",
    "                break\n",
    "            curr = par1[curr]\n",
    "        lst.reverse()\n",
    "        lst1=[i[0] for i in lst]\n",
    "        s1=0\n",
    "        for i in range(len(lst1)-1):\n",
    "            for j in map[lst1[i]]:\n",
    "                if j[0]==lst1[i+1]:\n",
    "                    s1+=j[1]\n",
    "        print('Total cost: ',s1, 'dong')  \n",
    "        print('Path: ')\n",
    "        return lst1\n",
    "            \n",
    "        \n",
    "\n",
    "            \n",
    "        "
   ]
  },
  {
   "cell_type": "code",
   "execution_count": 18,
   "id": "4fe6cf3e",
   "metadata": {},
   "outputs": [
    {
     "name": "stdout",
     "output_type": "stream",
     "text": [
      "[['LaoCai' 'HaGiang' 300000]\n",
      " ['LaoCai' 'VietTri' 312000]\n",
      " ['LaoCai' 'SonLa' 375000]\n",
      " ['HaGiang' 'CaoBang' 373500]\n",
      " ['HaGiang' 'VietTri' 324000]]\n"
     ]
    }
   ],
   "source": [
    "# travelling cost between adjacent cities\n",
    "df=pd.read_csv('../data/route-info.csv')\n",
    "data=df.to_numpy()\n",
    "df1=pd.read_csv('../data/air-info.csv')\n",
    "data1=df1.to_numpy()\n",
    "highway_data=data\n",
    "flight_fee=data1\n",
    "fee=highway_data[:,2:3]*1500+highway_data[:,3:4]*1000\n",
    "highway_fee=np.hstack((highway_data[:,:2],fee))\n",
    "#\n",
    "final_fee=highway_fee\n",
    "final_fee=np.vstack((final_fee,flight_fee))        \n",
    "print(final_fee[0:5])"
   ]
  },
  {
   "cell_type": "code",
   "execution_count": 19,
   "id": "33e21108",
   "metadata": {},
   "outputs": [
    {
     "name": "stdout",
     "output_type": "stream",
     "text": [
      "{'LaoCai': [('HaGiang', 300000), ('VietTri', 312000), ('SonLa', 375000), ('NhaTrang', 2000000)], 'HaGiang': [('LaoCai', 300000), ('CaoBang', 373500), ('VietTri', 324000)], 'VietTri': [('LaoCai', 312000), ('HaGiang', 324000), ('HaNoi', 120000), ('HoaBinh', 118500), ('SonLa', 340500)], 'SonLa': [('LaoCai', 375000), ('HoaBinh', 345000), ('VietTri', 340500)], 'CaoBang': [('HaGiang', 373500), ('LangSon', 187500)], 'LangSon': [('CaoBang', 187500), ('QuangNinh', 217500), ('HaNoi', 309000)], 'QuangNinh': [('LangSon', 217500), ('HaiPhong', 115500), ('HaNoi', 326000), ('DaNang', 1600000)], 'HaNoi': [('LangSon', 309000), ('QuangNinh', 326000), ('HaiPhong', 177000), ('HoaBinh', 111000), ('VietTri', 120000), ('NinhBinh', 157500), ('Pleiku', 1800000)], 'HaiPhong': [('QuangNinh', 115500), ('HaNoi', 177000), ('HoChiMinh', 3500000)], 'HoaBinh': [('HaNoi', 111000), ('NinhBinh', 270000), ('SonLa', 345000), ('VietTri', 118500)], 'NinhBinh': [('HaNoi', 157500), ('HoaBinh', 270000), ('ThanhHoa', 82500)], 'ThanhHoa': [('NinhBinh', 82500), ('Vinh', 228000)], 'Vinh': [('ThanhHoa', 228000), ('Hue', 549000)], 'Hue': [('Vinh', 549000), ('DaNang', 142500), ('QuangNam', 270000)], 'DaNang': [('Hue', 142500), ('QuangNam', 144000), ('Pleiku', 508500), ('QuangNinh', 1600000)], 'QuangNam': [('Hue', 270000), ('DaNang', 144000), ('Pleiku', 387000)], 'Pleiku': [('QuangNam', 387000), ('DaNang', 508500), ('BinhDinh', 220500), ('PhuYen', 280500), ('NhaTrang', 570000), ('DaLat', 423000), ('HaNoi', 1800000)], 'BinhDinh': [('Pleiku', 220500), ('PhuYen', 219000)], 'PhuYen': [('Pleiku', 280500), ('BinhDinh', 219000), ('NhaTrang', 217500)], 'NhaTrang': [('Pleiku', 570000), ('PhuYen', 217500), ('NinhThuan', 169500), ('DaLat', 165000), ('LaoCai', 2000000)], 'DaLat': [('Pleiku', 423000), ('NinhThuan', 126000), ('NhaTrang', 165000), ('BinhDuong', 502500)], 'NinhThuan': [('NhaTrang', 169500), ('DaLat', 126000), ('PhanThiet', 213000)], 'PhanThiet': [('NinhThuan', 213000), ('BienHoa', 338500), ('VungTau', 258000)], 'BinhDuong': [('DaLat', 502500), ('BienHoa', 105000), ('HoChiMinh', 108000)], 'BienHoa': [('BinhDuong', 105000), ('PhanThiet', 338500), ('HoChiMinh', 245000), ('VungTau', 120000)], 'HoChiMinh': [('BinhDuong', 108000), ('BienHoa', 245000), ('VungTau', 142500), ('LongAn', 81000), ('HaiPhong', 3500000)], 'VungTau': [('BienHoa', 120000), ('PhanThiet', 258000), ('HoChiMinh', 142500), ('LongAn', 216000)], 'LongAn': [('VungTau', 216000), ('HoChiMinh', 81000), ('VinhLong', 136500)], 'VinhLong': [('LongAn', 136500), ('CanTho', 55500)], 'CanTho': [('VinhLong', 55500), ('AnGiang', 162000), ('CaMau', 210000)], 'AnGiang': [('CanTho', 162000)], 'CaMau': [('CanTho', 210000)]}\n"
     ]
    }
   ],
   "source": [
    "map=dict()\n",
    "for i in final_fee:\n",
    "    map[i[0]]=map.get(i[0],[])\n",
    "    map[i[0]].append((i[1],i[2]))\n",
    "    map[i[1]]=map.get(i[1],[])\n",
    "    map[i[1]].append((i[0],i[2]))\n",
    "cities_lst=map.keys()\n",
    "print(map)"
   ]
  },
  {
   "cell_type": "code",
   "execution_count": 20,
   "id": "dee5e8bd",
   "metadata": {
    "scrolled": true
   },
   "outputs": [],
   "source": [
    "# getting heuristics data\n",
    "df2=pd.read_csv('../data/city-label.csv', header=None)\n",
    "da=df2.to_numpy()\n",
    "da=da.reshape((2,-1))\n",
    "label=dict()\n",
    "da=list(da)\n",
    "for i in range(len(da[0])):\n",
    "    label[da[0][i]]=i\n",
    "df1=pd.read_csv('../data/heuristics.csv', header=None)\n",
    "data1=df1.to_numpy()"
   ]
  },
  {
   "cell_type": "code",
   "execution_count": 21,
   "id": "73d4f0fd",
   "metadata": {},
   "outputs": [
    {
     "name": "stdout",
     "output_type": "stream",
     "text": [
      "Heuristics\n",
      "{'LaoCai': 2082000.0, 'HaGiang': 2107500.0, 'CaoBang': 2059500.0, 'LangSon': 1918500.0, 'QuangNinh': 1767000.0, 'HaiPhong': 1755000.0, 'HaNoi': 1792500.0, 'NinhBinh': 1662000.0, 'HoaBinh': 1767000.0, 'VietTri': 1849500.0, 'ThanhHoa': 1591500.0, 'Vinh': 1405500.0, 'Hue': 1023000.0, 'QuangNam': 900000.0, 'Pleiku': 625500.0, 'BinhDinh': 700500.0, 'PhuYen': 586500.0, 'NhaTrang': 471000.0, 'NinhThuan': 376500.0, 'DaLat': 346500.0, 'BinhDuong': 126000.0, 'BienHoa': 108000.0, 'PhanThiet': 193500.0, 'VungTau': 0.0, 'LongAn': 112500.0, 'VinhLong': 181500.0, 'CanTho': 217500.0, 'SonLa': 1900500.0, 'HoChiMinh': 93000.0, 'CaMau': 372000.0, 'AnGiang': 268500.0, 'DaNang': 973500.0}\n"
     ]
    }
   ],
   "source": [
    "# find straight-line distance from start city to other cities\n",
    "start='HaiPhong'\n",
    "destination='VungTau'\n",
    "def find_heuristic(start, destination):\n",
    "    if destination not in cities_lst:\n",
    "        raise Exception(\"this city is not included in the map\")\n",
    "    data3=[]\n",
    "    index=label[destination]\n",
    "    for i in label:\n",
    "        data3.append([i, data1[index,label[i]]])\n",
    "    return data3\n",
    "data4=find_heuristic(start, destination)\n",
    "print('Heuristics')\n",
    "\n",
    "h=dict()\n",
    "for i in data4:\n",
    "    h[i[0]]=h.get(i[0],0 )+float(i[1]*1500)\n",
    "def H(n):\n",
    "    return h[n]  \n",
    "print(h)"
   ]
  },
  {
   "cell_type": "code",
   "execution_count": 22,
   "id": "f78e66ab",
   "metadata": {},
   "outputs": [
    {
     "name": "stdout",
     "output_type": "stream",
     "text": [
      "number of nodes expanded in each iterative:  [3, 7, 14, 17, 20, 22, 24, 28, 31, 35, 40, 43, 45, 49, 56, 63, 70, 72, 78, 81, 84, 87, 89, 91, 98, 105, 107, 109, 112, 117, 120, 124, 126, 128, 130, 134, 136, 143, 147, 149, 153, 157, 161, 164, 166, 170, 184, 188, 197, 200, 203, 205, 211, 215, 221, 224, 227, 230, 234, 236, 238, 241, 243, 248, 252, 256, 262, 267, 272, 275, 283, 286, 291, 294, 296, 298, 302, 307, 326, 330, 335, 348, 352, 355, 366, 369, 372, 379, 400, 407, 409, 411, 416, 429, 432, 441, 445, 451, 468, 471, 473, 475, 480, 487, 493, 512, 515, 525, 530, 532, 539, 552, 554, 571, 573, 578, 585, 589, 609, 614, 616, 618, 621, 624, 627, 630, 632, 637, 643, 646, 653, 665, 667, 669, 686, 688, 692, 696, 701, 716, 719, 723, 725, 727, 743, 761, 763, 767, 775, 784, 786, 796, 808, 820, 824, 829, 831, 839, 855, 859, 863, 870, 876, 899, 912, 916, 933, 944, 946, 949, 951, 983, 987, 990, 1013, 1015, 1024, 1037, 1044, 1065, 1069, 1079, 1082, 1098, 1100, 1114, 1118, 1121, 1149, 1153, 1155, 1163, 1181, 1185, 1196, 1214, 1227, 1250, 1261, 1270, 1274, 1278, 1281, 1287, 1292, 1308, 1324, 1330, 1344, 1351, 1355, 1383, 1400, 1423, 1439, 1458, 1461, 1469, 1485, 1500, 1506, 1510, 1522, 1536, 1540, 1560, 1562, 1573, 1585, 1618, 1625, 1644, 1657, 1663, 1677, 1680, 1683, 1689, 1711, 1720, 1723, 1733, 1735, 1743, 1760, 1767, 1781, 1785, 1810, 1816, 1823, 1873, 1879, 1883, 1886, 1890, 1892, 1904, 1911, 1916, 1946, 1950, 2010, 2014, 2024, 2027, 2050, 2053, 2073, 2118, 2123, 2167, 2172, 2182, 2185, 2198, 2206, 2209, 2220, 2223, 2243, 2248, 2257, 2297, 2303, 2317, 2320, 2327, 2352, 2354, 2356, 2380, 2382, 2429, 2442, 2446, 2469, 2474, 2477, 2542, 2572, 2577, 2633, 2693, 2705, 2724, 2737, 2773, 2786, 2809, 2861, 2873, 2895, 2899, 2924, 2952, 2963, 2975, 2981, 2985, 3041, 3052, 3090, 3097, 3128, 3177, 3201, 3228, 3302, 3353, 3404, 3406, 3408, 3416, 3421, 3433, 3450, 3456, 3459, 3463, 3503, 3505, 3518, 3553, 3562, 3590, 3593, 3623, 3644, 3679, 3682, 3733, 3735, 3778, 3780, 3817, 3822, 3859, 3865, 3884, 3917, 3940, 3943, 3958, 3965, 3987, 4001, 4041, 4047, 4096, 4131, 4164, 4225, 4227, 4258, 4279, 4330, 4332, 4374, 4377, 4415, 4419, 4431, 4459, 4481, 4486, 4511, 4513, 4549, 4624, 4628, 4676, 4710, 4722, 4763, 4768, 4794, 4800, 4905, 4909, 4971, 4974, 4978, 5030, 5042, 5108, 5110, 5113, 5142, 5159, 5162, 5191, 5195, 5276, 5280, 5344, 5359, 5367, 5394, 5397, 5452, 5456, 5514, 5516, 5561, 5577, 5671, 5689, 5754, 5756, 5760, 5820, 5828, 5891, 5900, 5981, 5991, 6027, 6043, 6155, 6167, 6207, 6235, 6337, 6339, 6386, 6394, 6454, 6470, 6549, 6553, 6617, 6625, 6680, 6687, 6757, 6763, 6843, 6866, 6879, 6892, 6897, 6990, 7007, 7076, 7095, 7152, 7155, 7246, 7310, 7342, 7413, 7424, 7528, 7542, 7610, 7661, 7752, 7761, 7864, 7869, 7872, 7916, 7937, 7991, 8009, 8087, 8093, 8138, 8182, 8268, 8282, 8375, 8392, 8487, 8515, 8598, 8608, 8610, 8731, 8745, 8876, 8922, 8981, 8985, 9085, 9096, 9149, 9170, 9239, 9256, 9260, 9302, 9346, 9431, 9454, 9523, 9538, 9611, 9651, 9673, 9787, 9792, 9806, 9865, 9885, 10030, 10071, 10138, 10144, 10274, 10295, 10306, 10403, 10454, 10512, 10529, 10557, 10597, 10619, 10687, 10738, 10843, 10859, 11051, 11075, 11143, 11174, 11177, 11318, 11332, 11346, 11458, 11470, 11622, 11644, 11745]\n",
      "total nodes expanded:  1900170\n",
      "Total cost:  2865000 dong\n",
      "Path: \n",
      "HaiPhong --> HaNoi --> NinhBinh --> ThanhHoa --> Vinh --> Hue --> DaNang --> Pleiku --> DaLat --> NinhThuan --> PhanThiet --> VungTau\n",
      "time:  20.807971239089966\n"
     ]
    }
   ],
   "source": [
    "# output\n",
    "begin=time.time()\n",
    "solver=Graph(map)\n",
    "path1=solver.iterative_deepening_a_star(start,destination)\n",
    "print(*path1, sep=' --> ')\n",
    "end=time.time()\n",
    "print('time: ',end - begin)"
   ]
  },
  {
   "cell_type": "code",
   "execution_count": null,
   "id": "64f53f07",
   "metadata": {},
   "outputs": [
    {
     "name": "stdout",
     "output_type": "stream",
     "text": [
      "Test: NinhBinh -> DaNang\n",
      "number of nodes expanded in each iterative:  [3, 5, 7, 10, 12, 14, 17, 24, 28]\n",
      "total nodes expanded:  120\n",
      "Total cost:  1002000 dong\n",
      "Path: \n",
      "NinhBinh --> ThanhHoa --> Vinh --> Hue --> DaNang\n",
      "Total execution time: 0.0009984970092773438\n",
      "Test: DaLat -> HaiPhong\n"
     ]
    }
   ],
   "source": [
    "# randomise different instances\n",
    "# IDA* takes a really long time to solve complicated (huge branching factor) paths, \n",
    "# thus we will not generate 50 instances at once\n",
    "count = 0\n",
    "cities_test = copy.deepcopy(list(cities_lst))\n",
    "time_lst = []  # list of running time for analysis\n",
    "while count <=49: \n",
    "\n",
    "    start_indx = randint(0, 31)\n",
    "    end_indx = randint(0, 31)\n",
    "\n",
    "    start_test = cities_test[start_indx]\n",
    "    end_test = cities_test[end_indx]\n",
    "    print(f'Test: {cities_test[start_indx]} -> {cities_test[end_indx]}')\n",
    "\n",
    "    start_time = time.time()\n",
    "    solver = Graph(map)\n",
    "    path = solver.iterative_deepening_a_star(start_test, end_test)\n",
    "    print(*path, sep=' --> ')\n",
    "    end_time = time.time()\n",
    "    time_lst.append(end_time-start_time)\n",
    "    print('Total execution time:', end_time-start_time)"
   ]
  },
  {
   "cell_type": "code",
   "execution_count": null,
   "id": "3b6125c5",
   "metadata": {},
   "outputs": [],
   "source": [
    "import csv\n",
    "header = [i for i in range(1, 51)]\n",
    "# dat = time_lst\n",
    "\n",
    "# with open('ida_star.csv', 'w') as f1:\n",
    "#     writer = csv.writer(f1)\n",
    "#     writer.writerow(header)\n",
    "#     writer.writerow(dat) "
   ]
  }
 ],
 "metadata": {
  "kernelspec": {
   "display_name": "Python 3",
   "language": "python",
   "name": "python3"
  },
  "language_info": {
   "codemirror_mode": {
    "name": "ipython",
    "version": 3
   },
   "file_extension": ".py",
   "mimetype": "text/x-python",
   "name": "python",
   "nbconvert_exporter": "python",
   "pygments_lexer": "ipython3",
   "version": "3.8.8"
  }
 },
 "nbformat": 4,
 "nbformat_minor": 5
}
