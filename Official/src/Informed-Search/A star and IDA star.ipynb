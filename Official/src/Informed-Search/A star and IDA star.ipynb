{
 "cells": [
  {
   "cell_type": "code",
   "execution_count": 88,
   "id": "7ad4313d",
   "metadata": {},
   "outputs": [],
   "source": [
    "class Graph:\n",
    "    def __init__(self, graph_dict):\n",
    "        self.graph_dict = graph_dict\n",
    " \n",
    "    def neighbors(self, v):\n",
    "        return self.graph_dict[v]\n",
    " \n",
    "    def h(self, n):\n",
    "        return H(n)\n",
    "    \n",
    " \n",
    "    def a_star_algorithm(self, start, stop):\n",
    "        if start not in cities_lst or stop not in cities_lst:\n",
    "            raise Exception('city name incorrect')\n",
    "        active_lst = set([start])\n",
    "        finished_lst = set([])\n",
    " \n",
    "        # cost  present distances from start to  other nodes\n",
    "        cost = {}\n",
    "        cost[start] = 0\n",
    "        #par is to find parents of a node\n",
    "        par = {}\n",
    "        par[start] = start\n",
    " \n",
    "        while len(active_lst) > 0:\n",
    "\n",
    "            n = None\n",
    " \n",
    "            # it will find a node with the lowest value of f() in active lst\n",
    "            for v in active_lst:\n",
    "                if n == None or cost[v] + self.h(v) < cost[n] + self.h(n):\n",
    "                    n = v;\n",
    " \n",
    "            if n == None:\n",
    "                print('Path does not exist!')\n",
    "                return None\n",
    "            if n == stop:\n",
    "                reconst_path = []\n",
    " \n",
    "                while par[n] != n:\n",
    "                    reconst_path.append(n)\n",
    "                    n = par[n]\n",
    " \n",
    "                reconst_path.append(start)\n",
    " \n",
    "                reconst_path.reverse()\n",
    "                s=0\n",
    "                for i in range(len(reconst_path)-1):\n",
    "                    for j in map[reconst_path[i]]:\n",
    "                        if j[0]==reconst_path[i+1]:\n",
    "                            s+=j[1]\n",
    "                print('Total cost: ',s)            \n",
    "                return reconst_path\n",
    "             # for all the neighbors of the current node do\n",
    "            for m, weight in self.neighbors(n):\n",
    "                \n",
    "                # if the current node is not presentin both active_lst and finished_lst\n",
    "                # add it to active_lst and note n as it's par\n",
    "                if m not in active_lst and m not in finished_lst:\n",
    "                    active_lst.add(m)\n",
    "                    par[m] = n\n",
    "                    cost[m] = cost[n] + weight\n",
    "                # otherwise, check if it's quicker to first visit n, then m\n",
    "                # and if it is, update par data and cost data\n",
    "                # and if the node was in the closed_lst, move it to open_lst\n",
    "                else:\n",
    "                    if cost[m] > cost[n] + weight:\n",
    "                        cost[m] = cost[n] + weight\n",
    "                        par[m] = n\n",
    " \n",
    "                        if m in finished_lst:\n",
    "                            finished_lst.remove(m)\n",
    "                            active_lst.add(m)\n",
    "            # remove n from the active_lst, and add it to finished_lst \n",
    "            active_lst.remove(n)\n",
    "            finished_lst.add(n)\n",
    " \n",
    "        print('Path does not exist!')\n",
    "        return None\n",
    "    \n",
    "    def iterative_deepening_a_star(self,start, goal):\n",
    "        if start not in cities_lst or goal not in cities_lst:\n",
    "            raise Exception('city name incorrect')\n",
    "        min_fringe=0\n",
    "        threshold=self.h(start)\n",
    "        self.u=0\n",
    "        def IDA(start, goal, threshold, min_fringe):\n",
    "            global path_cost\n",
    "            global par\n",
    "            global real_path\n",
    "            global par1\n",
    "            global s\n",
    "            global u\n",
    "            s=0\n",
    "            par=dict()\n",
    "            visited=set()\n",
    "            visited.add(start)\n",
    "            stack=[[start,0]]\n",
    "            min_goal=float('inf')\n",
    "            while len(stack)!=0:\n",
    "                node, cost=stack.pop()\n",
    "                visited.add(node)\n",
    "                if node==goal:\n",
    "                    s+=1\n",
    "                    if cost<min_goal:\n",
    "                        min_goal=cost\n",
    "                        par1=par.copy()    \n",
    "                for m, weight in self.neighbors(node):                    \n",
    "                    if m not in visited:\n",
    "                        path_cost=cost+weight+self.h(m)\n",
    "                        if path_cost> threshold:\n",
    "                            if path_cost<min_fringe:\n",
    "                                min_fringe=path_cost                            \n",
    "                        else:\n",
    "                            par[m] = node\n",
    "                            stack.append([m,path_cost-self.h(m)])\n",
    "            self.u=min_fringe\n",
    "        while True:           \n",
    "            min_fringe=float('inf')\n",
    "            IDA(start,goal,threshold, min_fringe)\n",
    "            threshold=self.u\n",
    "            if s!=0:\n",
    "                break\n",
    "        curr = goal\n",
    "        lst=[]\n",
    "        while (curr != None):\n",
    "            lst.append(curr)\n",
    "            if curr==start:\n",
    "                break\n",
    "            curr = par1[curr]\n",
    "        lst.reverse()\n",
    "        s1=0\n",
    "        for i in range(len(lst)-1):\n",
    "            for j in map[lst[i]]:\n",
    "                if j[0]==lst[i+1]:\n",
    "                    s1+=j[1]\n",
    "        print('Total cost: ',s1)            \n",
    "        return lst\n",
    "            \n",
    "        \n",
    "\n",
    "            \n",
    "        "
   ]
  },
  {
   "cell_type": "code",
   "execution_count": 89,
   "id": "4fe6cf3e",
   "metadata": {},
   "outputs": [
    {
     "name": "stdout",
     "output_type": "stream",
     "text": [
      "[['LaoCai' 'HaGiang' 300000]\n",
      " ['LaoCai' 'VietTri' 312000]\n",
      " ['LaoCai' 'SonLa' 375000]\n",
      " ['HaGiang' 'CaoBang' 373500]\n",
      " ['HaGiang' 'VietTri' 324000]]\n"
     ]
    }
   ],
   "source": [
    "import numpy as np\n",
    "import pandas as pd\n",
    "df=pd.read_csv('../data/route-info.csv')\n",
    "data=df.to_numpy()\n",
    "df1=pd.read_csv('../data/air-info.csv')\n",
    "data1=df1.to_numpy()\n",
    "highway_data=data\n",
    "flight_fee=data1\n",
    "fee=highway_data[:,2:3]*1500+highway_data[:,3:4]*1000\n",
    "highway_fee=np.hstack((highway_data[:,:2],fee))\n",
    "#\n",
    "final_fee=highway_fee\n",
    "final_fee=np.vstack((final_fee,flight_fee))        \n",
    "print(final_fee[0:5])"
   ]
  },
  {
   "cell_type": "code",
   "execution_count": 90,
   "id": "33e21108",
   "metadata": {},
   "outputs": [
    {
     "name": "stdout",
     "output_type": "stream",
     "text": [
      "dict_keys(['LaoCai', 'HaGiang', 'VietTri', 'SonLa', 'CaoBang', 'LangSon', 'QuangNinh', 'HaNoi', 'HaiPhong', 'HoaBinh', 'NinhBinh', 'ThanhHoa', 'Vinh', 'Hue', 'DaNang', 'QuangNam', 'Pleiku', 'BinhDinh', 'PhuYen', 'NhaTrang', 'DaLat', 'NinhThuan', 'PhanThiet', 'BinhDuong', 'BienHoa', 'HoChiMinh', 'VungTau', 'LongAn', 'VinhLong', 'CanTho', 'AnGiang', 'CaMau'])\n"
     ]
    }
   ],
   "source": [
    "map=dict()\n",
    "for i in final_fee:\n",
    "    map[i[0]]=map.get(i[0],[])\n",
    "    map[i[0]].append((i[1],i[2]))\n",
    "    map[i[1]]=map.get(i[1],[])\n",
    "    map[i[1]].append((i[0],i[2]))\n",
    "cities_lst=map.keys()\n",
    "print(cities_lst)"
   ]
  },
  {
   "cell_type": "code",
   "execution_count": 91,
   "id": "dee5e8bd",
   "metadata": {
    "scrolled": true
   },
   "outputs": [],
   "source": [
    "df2=pd.read_csv('../data/city-label.csv', header=None)\n",
    "da=df2.to_numpy()\n",
    "da=da.reshape((2,-1))\n",
    "label=dict()\n",
    "da=list(da)\n",
    "for i in range(len(da[0])):\n",
    "    label[da[0][i]]=i\n",
    "df1=pd.read_csv('../data/heuristics.csv', header=None)\n",
    "data1=df1.to_numpy()\n",
    "\n"
   ]
  },
  {
   "cell_type": "code",
   "execution_count": 95,
   "id": "73d4f0fd",
   "metadata": {},
   "outputs": [
    {
     "name": "stdout",
     "output_type": "stream",
     "text": [
      " Heuristics\n",
      "[['LaoCai' '1484']\n",
      " ['HaGiang' '1518']\n",
      " ['CaoBang' '1505']\n",
      " ['LangSon' '1419']\n",
      " ['QuangNinh' '1325']\n",
      " ['HaiPhong' '1310']\n",
      " ['HaNoi' '1320']\n",
      " ['NinhBinh' '1235']\n",
      " ['HoaBinh' '1294']\n",
      " ['VietTri' '1351']\n",
      " ['ThanhHoa' '1184']\n",
      " ['Vinh' '1057']\n",
      " ['Hue' '852']\n",
      " ['QuangNam' '797']\n",
      " ['Pleiku' '618']\n",
      " ['BinhDinh' '689']\n",
      " ['PhuYen' '629']\n",
      " ['NhaTrang' '559']\n",
      " ['NinhThuan' '498']\n",
      " ['DaLat' '473']\n",
      " ['BinhDuong' '259']\n",
      " ['BienHoa' '269']\n",
      " ['PhanThiet' '377']\n",
      " ['VungTau' '248']\n",
      " ['LongAn' '205']\n",
      " ['VinhLong' '150']\n",
      " ['CanTho' '118']\n",
      " ['SonLa' '1358']\n",
      " ['HoChiMinh' '246']\n",
      " ['CaMau' '0']\n",
      " ['AnGiang' '138']\n",
      " ['DaNang' '836']]\n"
     ]
    }
   ],
   "source": [
    "start='LaoCai'\n",
    "destination='CaMau'\n",
    "def find_heuristic(start, destination):\n",
    "    if destination not in cities_lst:\n",
    "        raise Exception(\"this city is not included in the map\")\n",
    "    data3=[]\n",
    "    index=label[destination]\n",
    "    for i in label:\n",
    "        data3.append([i, data1[index,label[i]]])\n",
    "    return data3\n",
    "data4=find_heuristic(start, destination)\n",
    "print(' Heuristics')\n",
    "print(np.array(data4))\n",
    "h=dict()\n",
    "for i in data4:\n",
    "    h[i[0]]=h.get(i[0],0 )+float(i[1]*1500)\n",
    "def H(n):\n",
    "    return h[n]  \n"
   ]
  },
  {
   "cell_type": "code",
   "execution_count": 96,
   "id": "58e533ce",
   "metadata": {
    "scrolled": true
   },
   "outputs": [
    {
     "name": "stdout",
     "output_type": "stream",
     "text": [
      "Total cost:  2858500\n",
      "Path_found:\n",
      "LaoCai --> NhaTrang --> NinhThuan --> PhanThiet --> VungTau --> LongAn --> VinhLong --> CanTho --> CaMau\n",
      "time:  0.0\n"
     ]
    }
   ],
   "source": [
    "import time\n",
    "begin=time.time()\n",
    "solver=Graph(map)\n",
    "path=solver.a_star_algorithm(start,destination)\n",
    "print('Path_found:')\n",
    "print(*path, sep=' --> ')\n",
    "end=time.time()\n",
    "print('time: ',end-begin)"
   ]
  },
  {
   "cell_type": "code",
   "execution_count": 97,
   "id": "f78e66ab",
   "metadata": {},
   "outputs": [
    {
     "name": "stdout",
     "output_type": "stream",
     "text": [
      "Total cost:  2858500\n",
      "LaoCai --> NhaTrang --> DaLat --> BinhDuong --> HoChiMinh --> LongAn --> VinhLong --> CanTho --> CaMau\n",
      "time:  0.0020041465759277344\n"
     ]
    }
   ],
   "source": [
    "begin=time.time()\n",
    "path1=solver.iterative_deepening_a_star(start,destination)\n",
    "print(*path1, sep=' --> ')\n",
    "end=time.time()\n",
    "print('time: ',end - begin)"
   ]
  }
 ],
 "metadata": {
  "kernelspec": {
   "display_name": "Python 3",
   "language": "python",
   "name": "python3"
  },
  "language_info": {
   "codemirror_mode": {
    "name": "ipython",
    "version": 3
   },
   "file_extension": ".py",
   "mimetype": "text/x-python",
   "name": "python",
   "nbconvert_exporter": "python",
   "pygments_lexer": "ipython3",
   "version": "3.8.8"
  }
 },
 "nbformat": 4,
 "nbformat_minor": 5
}
