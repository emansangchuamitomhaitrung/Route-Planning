{
 "cells": [
  {
   "cell_type": "code",
   "execution_count": 1,
   "id": "7ad4313d",
   "metadata": {},
   "outputs": [],
   "source": [
    "class Graph:\n",
    "    def __init__(self, graph_dict):\n",
    "        self.graph_dict = graph_dict\n",
    " \n",
    "    def neighbors(self, v):\n",
    "        return self.graph_dict[v]\n",
    " \n",
    "    def h(self, n):\n",
    "        return H(n)\n",
    "    \n",
    " \n",
    "    def a_star_algorithm(self, start, stop):\n",
    "        if start not in cities_lst or stop not in cities_lst:\n",
    "            raise Exception('city name incorrect')\n",
    "        active_lst = set([start])\n",
    "        finished_lst = set([])\n",
    " \n",
    "        # cost  present distances from start to  other nodes\n",
    "        cost = {}\n",
    "        cost[start] = 0\n",
    "        #par is to find parents of a node\n",
    "        par = {}\n",
    "        par[start] = start\n",
    " \n",
    "        while len(active_lst) > 0:\n",
    "            \n",
    "            n = None\n",
    " \n",
    "            # it will find a node with the lowest value of f() in active lst\n",
    "            for v in active_lst:\n",
    "                if n == None or cost[v] + self.h(v) < cost[n] + self.h(n):\n",
    "                    n = v;\n",
    " \n",
    "            if n == None:\n",
    "                print('Path does not exist!')\n",
    "                return None\n",
    "            if n == stop:\n",
    "                print('number of node expanded: ',len(active_lst)+len(finished_lst))\n",
    "                reconst_path = []\n",
    " \n",
    "                while par[n] != n:\n",
    "                    reconst_path.append(n)\n",
    "                    n = par[n]\n",
    " \n",
    "                reconst_path.append(start)\n",
    " \n",
    "                reconst_path.reverse()\n",
    "                s=0\n",
    "                for i in range(len(reconst_path)-1):\n",
    "                    for j in map[reconst_path[i]]:\n",
    "                        if j[0]==reconst_path[i+1]:\n",
    "                            s+=j[1]\n",
    "                print('Total cost: ',s)            \n",
    "                return reconst_path\n",
    "             # for all the neighbors of the current node do\n",
    "            for m, weight in self.neighbors(n):\n",
    "                \n",
    "                # if the current node is not presentin both active_lst and finished_lst\n",
    "                # add it to active_lst and note n as it's par\n",
    "                if m not in active_lst and m not in finished_lst:\n",
    "                    active_lst.add(m)\n",
    "                    par[m] = n\n",
    "                    cost[m] = cost[n] + weight\n",
    "                # otherwise, check if it's quicker to first visit n, then m\n",
    "                # and if it is, update par data and cost data\n",
    "                # and if the node was in the closed_lst, move it to open_lst\n",
    "                else:\n",
    "                    if cost[m] > cost[n] + weight:\n",
    "                        cost[m] = cost[n] + weight\n",
    "                        par[m] = n\n",
    "                         \n",
    "                        if m in finished_lst:\n",
    "                            finished_lst.remove(m)\n",
    "                            active_lst.add(m)\n",
    "            \n",
    "            # remove n from the active_lst, and add it to finished_lst \n",
    "            active_lst.remove(n)\n",
    "            finished_lst.add(n)\n",
    "        print('Path does not exist!')\n",
    "        return None"
   ]
  },
  {
   "cell_type": "code",
   "execution_count": 2,
   "id": "4fe6cf3e",
   "metadata": {},
   "outputs": [
    {
     "name": "stdout",
     "output_type": "stream",
     "text": [
      "[['LaoCai' 'HaGiang' 300000]\n",
      " ['LaoCai' 'VietTri' 312000]\n",
      " ['LaoCai' 'SonLa' 375000]\n",
      " ['HaGiang' 'CaoBang' 373500]\n",
      " ['HaGiang' 'VietTri' 324000]]\n"
     ]
    }
   ],
   "source": [
    "import numpy as np\n",
    "import pandas as pd\n",
    "df=pd.read_csv('../data/route-info.csv')\n",
    "data=df.to_numpy()\n",
    "df1=pd.read_csv('../data/air-info.csv')\n",
    "data1=df1.to_numpy()\n",
    "highway_data=data\n",
    "flight_fee=data1\n",
    "fee=highway_data[:,2:3]*1500+highway_data[:,3:4]*1000\n",
    "highway_fee=np.hstack((highway_data[:,:2],fee))\n",
    "#\n",
    "final_fee=highway_fee\n",
    "final_fee=np.vstack((final_fee,flight_fee))        \n",
    "print(final_fee[0:5])"
   ]
  },
  {
   "cell_type": "code",
   "execution_count": 3,
   "id": "33e21108",
   "metadata": {},
   "outputs": [
    {
     "name": "stdout",
     "output_type": "stream",
     "text": [
      "dict_keys(['LaoCai', 'HaGiang', 'VietTri', 'SonLa', 'CaoBang', 'LangSon', 'QuangNinh', 'HaNoi', 'HaiPhong', 'HoaBinh', 'NinhBinh', 'ThanhHoa', 'Vinh', 'Hue', 'DaNang', 'QuangNam', 'Pleiku', 'BinhDinh', 'PhuYen', 'NhaTrang', 'DaLat', 'NinhThuan', 'PhanThiet', 'BinhDuong', 'BienHoa', 'HoChiMinh', 'VungTau', 'LongAn', 'VinhLong', 'CanTho', 'AnGiang', 'CaMau'])\n"
     ]
    }
   ],
   "source": [
    "map=dict()\n",
    "for i in final_fee:\n",
    "    map[i[0]]=map.get(i[0],[])\n",
    "    map[i[0]].append((i[1],i[2]))\n",
    "    map[i[1]]=map.get(i[1],[])\n",
    "    map[i[1]].append((i[0],i[2]))\n",
    "cities_lst=map.keys()\n",
    "print(cities_lst)"
   ]
  },
  {
   "cell_type": "code",
   "execution_count": 4,
   "id": "dee5e8bd",
   "metadata": {
    "scrolled": true
   },
   "outputs": [],
   "source": [
    "df2=pd.read_csv('../data/city-label.csv', header=None)\n",
    "da=df2.to_numpy()\n",
    "da=da.reshape((2,-1))\n",
    "label=dict()\n",
    "da=list(da)\n",
    "for i in range(len(da[0])):\n",
    "    label[da[0][i]]=i\n",
    "df1=pd.read_csv('../data/heuristics.csv', header=None)\n",
    "data1=df1.to_numpy()\n",
    "\n"
   ]
  },
  {
   "cell_type": "code",
   "execution_count": 5,
   "id": "73d4f0fd",
   "metadata": {},
   "outputs": [
    {
     "name": "stdout",
     "output_type": "stream",
     "text": [
      "Heuristics\n",
      "{'LaoCai': 1954500.0, 'HaGiang': 1951500.0, 'CaoBang': 1870500.0, 'LangSon': 1720500.0, 'QuangNinh': 1561500.0, 'HaiPhong': 1563000.0, 'HaNoi': 1624500.0, 'NinhBinh': 1495500.0, 'HoaBinh': 1617000.0, 'VietTri': 1695000.0, 'ThanhHoa': 1435500.0, 'Vinh': 1266000.0, 'Hue': 816000.0, 'QuangNam': 643500.0, 'Pleiku': 402000.0, 'BinhDinh': 396000.0, 'PhuYen': 235500.0, 'NhaTrang': 99000.0, 'NinhThuan': 0.0, 'DaLat': 81000.0, 'BinhDuong': 387000.0, 'BienHoa': 363000.0, 'PhanThiet': 187500.0, 'VungTau': 376500.0, 'LongAn': 453000.0, 'VinhLong': 538500.0, 'CanTho': 582000.0, 'SonLa': 1788000.0, 'HoChiMinh': 393000.0, 'CaMau': 747000.0, 'AnGiang': 609000.0, 'DaNang': 732000.0}\n"
     ]
    }
   ],
   "source": [
    "start='HaNoi'\n",
    "destination='NinhThuan'\n",
    "def find_heuristic(start, destination):\n",
    "    if destination not in cities_lst:\n",
    "        raise Exception(\"this city is not included in the map\")\n",
    "    data3=[]\n",
    "    index=label[destination]\n",
    "    for i in label:\n",
    "        data3.append([i, data1[index,label[i]]])\n",
    "    return data3\n",
    "data4=find_heuristic(start, destination)\n",
    "print('Heuristics')\n",
    "\n",
    "h=dict()\n",
    "for i in data4:\n",
    "    h[i[0]]=h.get(i[0],0 )+float(i[1]*1500)\n",
    "def H(n):\n",
    "    return h[n]  \n",
    "print(h)\n"
   ]
  },
  {
   "cell_type": "code",
   "execution_count": 6,
   "id": "58e533ce",
   "metadata": {
    "scrolled": true
   },
   "outputs": [
    {
     "name": "stdout",
     "output_type": "stream",
     "text": [
      "number of node expanded:  24\n",
      "Total cost:  2217000\n",
      "Path_found:\n",
      "HaNoi --> NinhBinh --> ThanhHoa --> Vinh --> Hue --> DaNang --> Pleiku --> DaLat --> NinhThuan\n",
      "time:  0.0010008811950683594\n"
     ]
    }
   ],
   "source": [
    "import time\n",
    "begin=time.time()\n",
    "solver=Graph(map)\n",
    "path=solver.a_star_algorithm(start,destination)\n",
    "print('Path_found:')\n",
    "print(*path, sep=' --> ')\n",
    "end=time.time()\n",
    "print('time: ',end-begin)"
   ]
  },
  {
   "cell_type": "code",
   "execution_count": null,
   "id": "3fbd8c70",
   "metadata": {},
   "outputs": [],
   "source": []
  },
  {
   "cell_type": "code",
   "execution_count": null,
   "id": "c70ba010",
   "metadata": {},
   "outputs": [],
   "source": []
  }
 ],
 "metadata": {
  "kernelspec": {
   "display_name": "Python 3",
   "language": "python",
   "name": "python3"
  },
  "language_info": {
   "codemirror_mode": {
    "name": "ipython",
    "version": 3
   },
   "file_extension": ".py",
   "mimetype": "text/x-python",
   "name": "python",
   "nbconvert_exporter": "python",
   "pygments_lexer": "ipython3",
   "version": "3.8.8"
  }
 },
 "nbformat": 4,
 "nbformat_minor": 5
}
