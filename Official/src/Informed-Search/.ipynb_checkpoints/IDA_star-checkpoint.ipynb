{
 "cells": [
  {
   "cell_type": "code",
   "execution_count": 16,
   "id": "9ffab892",
   "metadata": {},
   "outputs": [],
   "source": [
    "import numpy as np\n",
    "import pandas as pd\n",
    "import time\n",
    "from random import randint\n",
    "import time"
   ]
  },
  {
   "cell_type": "code",
   "execution_count": 28,
   "id": "7ad4313d",
   "metadata": {},
   "outputs": [],
   "source": [
    "import copy\n",
    "class Graph:\n",
    "    def __init__(self, graph_dict):\n",
    "        self.graph_dict = graph_dict\n",
    " \n",
    "    def neighbors(self, v):\n",
    "        return self.graph_dict[v]\n",
    " \n",
    "    def h(self, n):\n",
    "        return H(n)\n",
    "    def iterative_deepening_a_star(self,start, goal):\n",
    "        if start not in cities_lst or goal not in cities_lst:\n",
    "            raise Exception('City name incorrect!')\n",
    "        min_fringe=0\n",
    "        threshold=self.h(start)\n",
    "        self.u=0\n",
    "        count_node=[]\n",
    "        def IDA(start, goal, threshold, min_fringe):\n",
    "            global path_cost\n",
    "            global par\n",
    "            global real_path\n",
    "            global par1\n",
    "            global s\n",
    "            global u\n",
    "            global count\n",
    "            global visited\n",
    "            global visited1\n",
    "            global min_goal\n",
    "            li=0\n",
    "            count=0\n",
    "            s=0\n",
    "            par=dict()\n",
    "            visited=[]\n",
    "            visited1=[]\n",
    "            stack=[[start,0]]\n",
    "            min_goal=float('inf')\n",
    "            while len(stack)!=0:\n",
    "#                 print('PAR:', par)                \n",
    "#                 print(visited)\n",
    "#                 print('stack: ', stack[-1])\n",
    "#                 print('stack', stack)\n",
    "                if (len(stack))<=li:\n",
    "                    visited.pop()\n",
    "                node, cost1=stack.pop()\n",
    "                \n",
    "                visited.append((node))\n",
    "                li=len(stack)\n",
    "                \n",
    "            \n",
    "                if node==goal:\n",
    "                    s+=1\n",
    "                    # save the shortest route to destination\n",
    "                    if cost1<min_goal:\n",
    "                        min_goal=cost1\n",
    "                        par1=par.copy()\n",
    "                #check whether its neighbor's value of f surpass threshold\n",
    "                for m, weight in self.neighbors(node): \n",
    "                    p=(m,weight)\n",
    "                    \n",
    "                    if p not in visited:\n",
    "                        \n",
    "                        count+=1\n",
    "                        path_cost=cost1+weight+self.h(m)\n",
    "                        \n",
    "#                         print('FF: ', m, path_cost)\n",
    "                        #if f(neighbor)> threshold => put it in the fringe, the new threshold will be the smallest value in the fringe\n",
    "                        if path_cost> threshold:\n",
    "                            if path_cost<min_fringe:\n",
    "                                min_fringe=path_cost                            \n",
    "                        else:\n",
    "                            par[(m, path_cost-self.h(m))] = (node,cost1)\n",
    "                            stack.append([m,path_cost-self.h(m)])\n",
    "                            \n",
    "            self.u=min_fringe\n",
    "        while True:      \n",
    "            min_fringe=float('inf')\n",
    "            IDA(start,goal,threshold, min_fringe)\n",
    "            count_node.append(count)\n",
    "            threshold=self.u\n",
    "            if s!=0:\n",
    "                break     \n",
    "        print('Number of nodes expanded in each iteration: ', count_node)\n",
    "        print('Total nodes expanded: ', sum(count_node))\n",
    "        curr = (goal, min_goal)\n",
    "        #print path\n",
    "        lst=[]\n",
    "        while (curr != None):\n",
    "            lst.append(curr)\n",
    "            if curr==(start,0):\n",
    "                break\n",
    "            curr = par1[curr]\n",
    "        lst.reverse()\n",
    "        lst1=[i[0] for i in lst]\n",
    "        s1=0\n",
    "        for i in range(len(lst1)-1):\n",
    "            for j in map[lst1[i]]:\n",
    "                if j[0]==lst1[i+1]:\n",
    "                    s1+=j[1]\n",
    "        print('Total cost: ',s1, 'dong')  \n",
    "        print('Path: ')\n",
    "        return lst1"
   ]
  },
  {
   "cell_type": "code",
   "execution_count": 29,
   "id": "4fe6cf3e",
   "metadata": {},
   "outputs": [
    {
     "name": "stdout",
     "output_type": "stream",
     "text": [
      "[['LaoCai' 'HaGiang' 300000]\n",
      " ['LaoCai' 'VietTri' 312000]\n",
      " ['LaoCai' 'SonLa' 375000]\n",
      " ['HaGiang' 'CaoBang' 373500]\n",
      " ['HaGiang' 'VietTri' 324000]]\n"
     ]
    }
   ],
   "source": [
    "# travelling cost between adjacent cities\n",
    "df=pd.read_csv('../data/route-info.csv')\n",
    "data=df.to_numpy()\n",
    "df1=pd.read_csv('../data/air-info.csv')\n",
    "data1=df1.to_numpy()\n",
    "highway_data=data\n",
    "flight_fee=data1\n",
    "fee=highway_data[:,2:3]*1500+highway_data[:,3:4]*1000\n",
    "highway_fee=np.hstack((highway_data[:,:2],fee))\n",
    "#\n",
    "final_fee=highway_fee\n",
    "final_fee=np.vstack((final_fee,flight_fee))        \n",
    "print(final_fee[0:5])"
   ]
  },
  {
   "cell_type": "code",
   "execution_count": 30,
   "id": "33e21108",
   "metadata": {},
   "outputs": [
    {
     "name": "stdout",
     "output_type": "stream",
     "text": [
      "{'LaoCai': [('HaGiang', 300000), ('VietTri', 312000), ('SonLa', 375000), ('NhaTrang', 2000000)], 'HaGiang': [('LaoCai', 300000), ('CaoBang', 373500), ('VietTri', 324000)], 'VietTri': [('LaoCai', 312000), ('HaGiang', 324000), ('HaNoi', 120000), ('HoaBinh', 118500), ('SonLa', 340500)], 'SonLa': [('LaoCai', 375000), ('HoaBinh', 345000), ('VietTri', 340500)], 'CaoBang': [('HaGiang', 373500), ('LangSon', 187500)], 'LangSon': [('CaoBang', 187500), ('QuangNinh', 217500), ('HaNoi', 309000)], 'QuangNinh': [('LangSon', 217500), ('HaiPhong', 115500), ('HaNoi', 326000), ('DaNang', 1600000)], 'HaNoi': [('LangSon', 309000), ('QuangNinh', 326000), ('HaiPhong', 177000), ('HoaBinh', 111000), ('VietTri', 120000), ('NinhBinh', 157500), ('Pleiku', 1800000)], 'HaiPhong': [('QuangNinh', 115500), ('HaNoi', 177000), ('HoChiMinh', 3500000)], 'HoaBinh': [('HaNoi', 111000), ('NinhBinh', 270000), ('SonLa', 345000), ('VietTri', 118500)], 'NinhBinh': [('HaNoi', 157500), ('HoaBinh', 270000), ('ThanhHoa', 82500)], 'ThanhHoa': [('NinhBinh', 82500), ('Vinh', 228000)], 'Vinh': [('ThanhHoa', 228000), ('Hue', 549000)], 'Hue': [('Vinh', 549000), ('DaNang', 142500), ('QuangNam', 270000)], 'DaNang': [('Hue', 142500), ('QuangNam', 144000), ('Pleiku', 508500), ('QuangNinh', 1600000)], 'QuangNam': [('Hue', 270000), ('DaNang', 144000), ('Pleiku', 387000)], 'Pleiku': [('QuangNam', 387000), ('DaNang', 508500), ('BinhDinh', 220500), ('PhuYen', 280500), ('NhaTrang', 570000), ('DaLat', 423000), ('HaNoi', 1800000)], 'BinhDinh': [('Pleiku', 220500), ('PhuYen', 219000)], 'PhuYen': [('Pleiku', 280500), ('BinhDinh', 219000), ('NhaTrang', 217500)], 'NhaTrang': [('Pleiku', 570000), ('PhuYen', 217500), ('NinhThuan', 169500), ('DaLat', 165000), ('LaoCai', 2000000)], 'DaLat': [('Pleiku', 423000), ('NinhThuan', 126000), ('NhaTrang', 165000), ('BinhDuong', 502500)], 'NinhThuan': [('NhaTrang', 169500), ('DaLat', 126000), ('PhanThiet', 213000)], 'PhanThiet': [('NinhThuan', 213000), ('BienHoa', 338500), ('VungTau', 258000)], 'BinhDuong': [('DaLat', 502500), ('BienHoa', 105000), ('HoChiMinh', 108000)], 'BienHoa': [('BinhDuong', 105000), ('PhanThiet', 338500), ('HoChiMinh', 245000), ('VungTau', 120000)], 'HoChiMinh': [('BinhDuong', 108000), ('BienHoa', 245000), ('VungTau', 142500), ('LongAn', 81000), ('HaiPhong', 3500000)], 'VungTau': [('BienHoa', 120000), ('PhanThiet', 258000), ('HoChiMinh', 142500), ('LongAn', 216000)], 'LongAn': [('VungTau', 216000), ('HoChiMinh', 81000), ('VinhLong', 136500)], 'VinhLong': [('LongAn', 136500), ('CanTho', 55500)], 'CanTho': [('VinhLong', 55500), ('AnGiang', 162000), ('CaMau', 210000)], 'AnGiang': [('CanTho', 162000)], 'CaMau': [('CanTho', 210000)]}\n"
     ]
    }
   ],
   "source": [
    "map=dict()\n",
    "for i in final_fee:\n",
    "    map[i[0]]=map.get(i[0],[])\n",
    "    map[i[0]].append((i[1],i[2]))\n",
    "    map[i[1]]=map.get(i[1],[])\n",
    "    map[i[1]].append((i[0],i[2]))\n",
    "cities_lst=map.keys()\n",
    "print(map)"
   ]
  },
  {
   "cell_type": "code",
   "execution_count": 31,
   "id": "dee5e8bd",
   "metadata": {
    "scrolled": true
   },
   "outputs": [],
   "source": [
    "# getting heuristics data\n",
    "df2=pd.read_csv('../data/city-label.csv', header=None)\n",
    "da=df2.to_numpy()\n",
    "da=da.reshape((2,-1))\n",
    "label=dict()\n",
    "da=list(da)\n",
    "for i in range(len(da[0])):\n",
    "    label[da[0][i]]=i\n",
    "df1=pd.read_csv('../data/heuristics.csv', header=None)\n",
    "data1=df1.to_numpy()"
   ]
  },
  {
   "cell_type": "code",
   "execution_count": 40,
   "id": "73d4f0fd",
   "metadata": {},
   "outputs": [
    {
     "name": "stdout",
     "output_type": "stream",
     "text": [
      "Heuristics\n",
      "{'LaoCai': 2226000.0, 'HaGiang': 2277000.0, 'CaoBang': 2257500.0, 'LangSon': 2128500.0, 'QuangNinh': 1987500.0, 'HaiPhong': 1965000.0, 'HaNoi': 1980000.0, 'NinhBinh': 1852500.0, 'HoaBinh': 1941000.0, 'VietTri': 2026500.0, 'ThanhHoa': 1776000.0, 'Vinh': 1585500.0, 'Hue': 1278000.0, 'QuangNam': 1195500.0, 'Pleiku': 927000.0, 'BinhDinh': 1033500.0, 'PhuYen': 943500.0, 'NhaTrang': 838500.0, 'NinhThuan': 747000.0, 'DaLat': 709500.0, 'BinhDuong': 388500.0, 'BienHoa': 403500.0, 'PhanThiet': 565500.0, 'VungTau': 372000.0, 'LongAn': 307500.0, 'VinhLong': 225000.0, 'CanTho': 177000.0, 'SonLa': 2037000.0, 'HoChiMinh': 369000.0, 'CaMau': 0.0, 'AnGiang': 207000.0, 'DaNang': 1254000.0}\n"
     ]
    }
   ],
   "source": [
    "# find straight-line distance from start city to other cities\n",
    "start='LaoCai'\n",
    "destination='CaMau'\n",
    "def find_heuristic(start, destination):\n",
    "    if destination not in cities_lst:\n",
    "        raise Exception(\"this city is not included in the map\")\n",
    "    data3=[]\n",
    "    index=label[destination]\n",
    "    for i in label:\n",
    "        data3.append([i, data1[index,label[i]]])\n",
    "    return data3\n",
    "data4=find_heuristic(start, destination)\n",
    "print('Heuristics')\n",
    "\n",
    "h=dict()\n",
    "for i in data4:\n",
    "    h[i[0]]=h.get(i[0],0 )+float(i[1]*1500)\n",
    "def H(n):\n",
    "    return h[n]  \n",
    "print(h)"
   ]
  },
  {
   "cell_type": "markdown",
   "id": "ffd408c2",
   "metadata": {},
   "source": [
    "IDA* takes a really long time to solve complicated (huge branching factor) paths, thus we will not generate 50 instances at once for the demo video."
   ]
  },
  {
   "cell_type": "code",
   "execution_count": 41,
   "id": "f78e66ab",
   "metadata": {},
   "outputs": [
    {
     "name": "stdout",
     "output_type": "stream",
     "text": [
      "Number of nodes expanded in each iteration:  [4, 9, 13, 23, 26, 28, 32, 34, 41, 44, 47, 49, 51, 54, 59, 62, 67, 71, 73, 75, 78, 82, 86, 88, 95, 102, 109, 116, 120, 123, 126, 128, 130, 133, 136, 143, 145, 157, 160, 164, 166, 168, 172, 175, 178, 190, 194, 207, 209, 219, 224, 231, 235, 238, 241, 248, 252, 275, 277, 284, 287, 290, 297, 299, 301, 303, 306, 309, 318, 321, 323, 335, 348, 354, 365, 367, 370, 380, 388, 391, 414, 416, 423, 427, 431, 434, 445, 447, 472, 480, 494, 508, 516, 518, 521, 524, 527, 538, 543, 553, 559, 565, 567, 571, 578, 581, 589, 592, 595, 600, 630, 634, 652, 656, 663, 666, 673, 675, 690, 706, 727, 734, 753, 760, 764, 776, 785, 793, 806, 816, 828, 852, 862, 865, 871, 874, 877, 886, 893, 904, 917, 955, 964, 997, 1002, 1009, 1014, 1018, 1021, 1040, 1043, 1045, 1075, 1085, 1112, 1120, 1126, 1151, 1168, 1172, 1175, 1185, 1201, 1224, 1228, 1266, 1285, 1312, 1333, 1352, 1356, 1359, 1363, 1366, 1368, 1375, 1379, 1390, 1404, 1429, 1441, 1445, 1491, 1495, 1499, 1510, 1526, 1529, 1532, 1541, 1561, 1585, 1634, 1661, 1715, 1748, 1760, 1764, 1781, 1784, 1787, 1808, 1838, 1842, 1864, 1884, 1890, 1909, 1940, 1958, 1979, 2000, 2010, 2030, 2051, 2067, 2081, 2104, 2158, 2187, 2234, 2320, 2323, 2362, 2385, 2418, 2422, 2425, 2428, 2443, 2460, 2480, 2534, 2548, 2615, 2618, 2642, 2646, 2687, 2729, 2742, 2769, 2777, 2784, 2787, 2812, 2816, 2844, 2872, 2878, 2956, 2983, 3060, 3112, 3115, 3182, 3186, 3237, 3240, 3250, 3273, 3284, 3299, 3325, 3329, 3360, 3392, 3419, 3455, 3459, 3531, 3534, 3540, 3552, 3588, 3608, 3610, 3614, 3616, 3622, 3640, 3648, 3665, 3672, 3690, 3726, 3806, 3841, 3973, 4020, 4088, 4174, 4195, 4201, 4232, 4264, 4310, 4360, 4419, 4423, 4482, 4548, 4611, 4677, 4724, 4728, 4740, 4744, 4766, 4768, 4807, 4831, 4845, 4892, 4949, 4995, 5004, 5109, 5228, 5306, 5310, 5445, 5448, 5517, 5522, 5560, 5563, 5596, 5617, 5633, 5681, 5752, 5755, 5851, 5899, 5909, 6074, 6122, 6126, 6232, 6240, 6296, 6309, 6363, 6370, 6419, 6426, 6458, 6504, 6512, 6545, 6550, 6606, 6609, 6702, 6706, 6736, 6892, 6952, 6955, 7095, 7098, 7237, 7246, 7348, 7352, 7423, 7474, 7483, 7517, 7583, 7635, 7645, 7756, 7760, 7836, 7839, 7963, 8078, 8081, 8189, 8209, 8316, 8378, 8390, 8417, 8421, 8423, 8455, 8477, 8485, 8511, 8526, 8567, 8639, 8643, 8732, 8736, 8832, 8836, 9040, 9133, 9141, 9334, 9476, 9498, 9501, 9584, 9665, 9685, 9693, 9698, 9741, 9745, 9811, 9814, 9907, 10042, 10175, 10178, 10360, 10519, 10723, 10726, 10881, 10963, 10967, 11061, 11064, 11066, 11125, 11193, 11313, 11417, 11449, 11540, 11543, 11719, 11722, 11862, 11866, 12024, 12030]\n",
      "Total nodes expanded:  1546609\n",
      "Total cost:  3258500 dong\n",
      "Path: \n",
      "['LaoCai', 'NhaTrang', 'DaLat', 'BinhDuong', 'HoChiMinh', 'LongAn', 'VinhLong', 'CanTho', 'CaMau'] --> 1546609\n",
      "time:  19.3078670501709\n"
     ]
    }
   ],
   "source": [
    "# output\n",
    "begin=time.time()\n",
    "solver=Graph(map)\n",
    "path1=solver.iterative_deepening_a_star(start,destination)\n",
    "print(*path1, sep=' --> ')\n",
    "end=time.time()\n",
    "print('time: ',end - begin)"
   ]
  },
  {
   "cell_type": "markdown",
   "id": "6b8d8659",
   "metadata": {},
   "source": [
    "IDA* takes a really long time to solve complicated (huge branching factor) paths, thus we will not generate 50 instances at once for the demo video."
   ]
  },
  {
   "cell_type": "code",
   "execution_count": 39,
   "id": "3b6125c5",
   "metadata": {},
   "outputs": [
    {
     "ename": "KeyboardInterrupt",
     "evalue": "",
     "output_type": "error",
     "traceback": [
      "\u001b[0;31m---------------------------------------------------------------------------\u001b[0m",
      "\u001b[0;31mKeyboardInterrupt\u001b[0m                         Traceback (most recent call last)",
      "\u001b[0;32m<ipython-input-39-37da15cb6812>\u001b[0m in \u001b[0;36m<module>\u001b[0;34m\u001b[0m\n\u001b[1;32m      7\u001b[0m     \u001b[0mstart_time\u001b[0m \u001b[0;34m=\u001b[0m \u001b[0mtime\u001b[0m\u001b[0;34m.\u001b[0m\u001b[0mtime\u001b[0m\u001b[0;34m(\u001b[0m\u001b[0;34m)\u001b[0m\u001b[0;34m\u001b[0m\u001b[0;34m\u001b[0m\u001b[0m\n\u001b[1;32m      8\u001b[0m     \u001b[0msolver\u001b[0m \u001b[0;34m=\u001b[0m \u001b[0mGraph\u001b[0m\u001b[0;34m(\u001b[0m\u001b[0mmap\u001b[0m\u001b[0;34m)\u001b[0m\u001b[0;34m\u001b[0m\u001b[0;34m\u001b[0m\u001b[0m\n\u001b[0;32m----> 9\u001b[0;31m     \u001b[0mpath\u001b[0m\u001b[0;34m,\u001b[0m \u001b[0mnodes\u001b[0m \u001b[0;34m=\u001b[0m \u001b[0msolver\u001b[0m\u001b[0;34m.\u001b[0m\u001b[0miterative_deepening_a_star\u001b[0m\u001b[0;34m(\u001b[0m\u001b[0mpair\u001b[0m\u001b[0;34m[\u001b[0m\u001b[0;36m0\u001b[0m\u001b[0;34m]\u001b[0m\u001b[0;34m,\u001b[0m \u001b[0mpair\u001b[0m\u001b[0;34m[\u001b[0m\u001b[0;36m1\u001b[0m\u001b[0;34m]\u001b[0m\u001b[0;34m)\u001b[0m\u001b[0;34m\u001b[0m\u001b[0;34m\u001b[0m\u001b[0m\n\u001b[0m\u001b[1;32m     10\u001b[0m     \u001b[0mend_time\u001b[0m \u001b[0;34m=\u001b[0m \u001b[0mtime\u001b[0m\u001b[0;34m.\u001b[0m\u001b[0mtime\u001b[0m\u001b[0;34m(\u001b[0m\u001b[0;34m)\u001b[0m\u001b[0;34m\u001b[0m\u001b[0;34m\u001b[0m\u001b[0m\n\u001b[1;32m     11\u001b[0m     \u001b[0mprint\u001b[0m\u001b[0;34m(\u001b[0m\u001b[0;34mf'Test {count}: {pair[0]} -> {pair[1]}'\u001b[0m\u001b[0;34m)\u001b[0m\u001b[0;34m\u001b[0m\u001b[0;34m\u001b[0m\u001b[0m\n",
      "\u001b[0;32m<ipython-input-28-c0226bdb135f>\u001b[0m in \u001b[0;36miterative_deepening_a_star\u001b[0;34m(self, start, goal)\u001b[0m\n\u001b[1;32m     75\u001b[0m         \u001b[0;32mwhile\u001b[0m \u001b[0;32mTrue\u001b[0m\u001b[0;34m:\u001b[0m\u001b[0;34m\u001b[0m\u001b[0;34m\u001b[0m\u001b[0m\n\u001b[1;32m     76\u001b[0m             \u001b[0mmin_fringe\u001b[0m\u001b[0;34m=\u001b[0m\u001b[0mfloat\u001b[0m\u001b[0;34m(\u001b[0m\u001b[0;34m'inf'\u001b[0m\u001b[0;34m)\u001b[0m\u001b[0;34m\u001b[0m\u001b[0;34m\u001b[0m\u001b[0m\n\u001b[0;32m---> 77\u001b[0;31m             \u001b[0mIDA\u001b[0m\u001b[0;34m(\u001b[0m\u001b[0mstart\u001b[0m\u001b[0;34m,\u001b[0m\u001b[0mgoal\u001b[0m\u001b[0;34m,\u001b[0m\u001b[0mthreshold\u001b[0m\u001b[0;34m,\u001b[0m \u001b[0mmin_fringe\u001b[0m\u001b[0;34m)\u001b[0m\u001b[0;34m\u001b[0m\u001b[0;34m\u001b[0m\u001b[0m\n\u001b[0m\u001b[1;32m     78\u001b[0m             \u001b[0mcount_node\u001b[0m\u001b[0;34m.\u001b[0m\u001b[0mappend\u001b[0m\u001b[0;34m(\u001b[0m\u001b[0mcount\u001b[0m\u001b[0;34m)\u001b[0m\u001b[0;34m\u001b[0m\u001b[0;34m\u001b[0m\u001b[0m\n\u001b[1;32m     79\u001b[0m             \u001b[0mthreshold\u001b[0m\u001b[0;34m=\u001b[0m\u001b[0mself\u001b[0m\u001b[0;34m.\u001b[0m\u001b[0mu\u001b[0m\u001b[0;34m\u001b[0m\u001b[0;34m\u001b[0m\u001b[0m\n",
      "\u001b[0;32m<ipython-input-28-c0226bdb135f>\u001b[0m in \u001b[0;36mIDA\u001b[0;34m(start, goal, threshold, min_fringe)\u001b[0m\n\u001b[1;32m     58\u001b[0m                     \u001b[0mp\u001b[0m\u001b[0;34m=\u001b[0m\u001b[0;34m(\u001b[0m\u001b[0mm\u001b[0m\u001b[0;34m,\u001b[0m\u001b[0mweight\u001b[0m\u001b[0;34m)\u001b[0m\u001b[0;34m\u001b[0m\u001b[0;34m\u001b[0m\u001b[0m\n\u001b[1;32m     59\u001b[0m \u001b[0;34m\u001b[0m\u001b[0m\n\u001b[0;32m---> 60\u001b[0;31m                     \u001b[0;32mif\u001b[0m \u001b[0mp\u001b[0m \u001b[0;32mnot\u001b[0m \u001b[0;32min\u001b[0m \u001b[0mvisited\u001b[0m\u001b[0;34m:\u001b[0m\u001b[0;34m\u001b[0m\u001b[0;34m\u001b[0m\u001b[0m\n\u001b[0m\u001b[1;32m     61\u001b[0m \u001b[0;34m\u001b[0m\u001b[0m\n\u001b[1;32m     62\u001b[0m                         \u001b[0mcount\u001b[0m\u001b[0;34m+=\u001b[0m\u001b[0;36m1\u001b[0m\u001b[0;34m\u001b[0m\u001b[0;34m\u001b[0m\u001b[0m\n",
      "\u001b[0;31mKeyboardInterrupt\u001b[0m: "
     ]
    }
   ],
   "source": [
    "city_test = [['LaoCai', 'CaMau']]\n",
    "time_lst = []\n",
    "node_lst = []\n",
    "count = 0\n",
    "for pair in city_test:\n",
    "    count += 1\n",
    "    start_time = time.time()\n",
    "    solver = Graph(map)\n",
    "    path, nodes = solver.iterative_deepening_a_star(pair[0], pair[1])\n",
    "    end_time = time.time()\n",
    "    print(f'Test {count}: {pair[0]} -> {pair[1]}')\n",
    "    print(*path, sep=' --> ')\n",
    "    print('Total execution time:', end_time - start_time)\n",
    "    time_lst.append(end_time-start_time)\n",
    "    node_lst.append(nodes)"
   ]
  },
  {
   "cell_type": "code",
   "execution_count": null,
   "id": "a12f949f",
   "metadata": {},
   "outputs": [],
   "source": []
  }
 ],
 "metadata": {
  "kernelspec": {
   "display_name": "Python 3",
   "language": "python",
   "name": "python3"
  },
  "language_info": {
   "codemirror_mode": {
    "name": "ipython",
    "version": 3
   },
   "file_extension": ".py",
   "mimetype": "text/x-python",
   "name": "python",
   "nbconvert_exporter": "python",
   "pygments_lexer": "ipython3",
   "version": "3.8.5"
  }
 },
 "nbformat": 4,
 "nbformat_minor": 5
}
