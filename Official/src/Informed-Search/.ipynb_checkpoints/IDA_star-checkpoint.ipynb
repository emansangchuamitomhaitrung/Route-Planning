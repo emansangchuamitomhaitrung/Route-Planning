{
 "cells": [
  {
   "cell_type": "code",
   "execution_count": 1,
   "id": "33e5e017",
   "metadata": {},
   "outputs": [],
   "source": [
    "import numpy as np\n",
    "import pandas as pd\n",
    "import time\n",
    "from random import randint\n",
    "import time"
   ]
  },
  {
   "cell_type": "code",
   "execution_count": 17,
   "id": "7ad4313d",
   "metadata": {},
   "outputs": [],
   "source": [
    "import copy\n",
    "class Graph:\n",
    "    def __init__(self, graph_dict):\n",
    "        self.graph_dict = graph_dict\n",
    " \n",
    "    def neighbors(self, v):\n",
    "        return self.graph_dict[v]\n",
    " \n",
    "    def h(self, n):\n",
    "        return H(n)\n",
    "    \n",
    "    def iterative_deepening_a_star(self,start, goal):\n",
    "        if start not in cities_lst or goal not in cities_lst:\n",
    "            raise Exception('city name incorrect')\n",
    "        min_fringe=0\n",
    "        threshold=self.h(start)\n",
    "        self.u=0\n",
    "        count_node=[]\n",
    "        def IDA(start, goal, threshold, min_fringe):\n",
    "            global path_cost\n",
    "            global par\n",
    "            global real_path\n",
    "            global par1\n",
    "            global s\n",
    "            global u\n",
    "            global count\n",
    "            global visited\n",
    "            global visited1\n",
    "            global min_goal\n",
    "            li=0\n",
    "            count=0\n",
    "            s=0\n",
    "            par=dict()\n",
    "            visited=[]\n",
    "            visited1=[]\n",
    "            stack=[[start,0]]\n",
    "            min_goal=float('inf')\n",
    "            while len(stack)!=0:\n",
    "#                 print('PAR:', par)                \n",
    "#                 print(visited)\n",
    "#                 print('stack: ', stack[-1])\n",
    "#                 print('stack', stack)\n",
    "                node, cost1=stack.pop()\n",
    "                visited.append((node,cost1))\n",
    "                if node==goal:\n",
    "                    s+=1\n",
    "                    # save the shortest route to destination\n",
    "                    if cost1<min_goal:\n",
    "                        min_goal=cost1\n",
    "                        par1=par.copy()\n",
    "                #check whether its neighbor's value of f surpass threshold\n",
    "                for m, weight in self.neighbors(node): \n",
    "                    p=(m,weight)\n",
    "                    \n",
    "                    if p not in visited:\n",
    "                        \n",
    "                        count+=1\n",
    "                        path_cost=cost1+weight+self.h(m)\n",
    "                        \n",
    "#                         print('FF: ', m, path_cost)\n",
    "                        #if f(neighbor)> threshold => put it in the fringe, the new threshold will be the smallest value in the fringe\n",
    "                        if path_cost> threshold:\n",
    "                            if path_cost<min_fringe:\n",
    "                                min_fringe=path_cost                            \n",
    "                        else:\n",
    "                            par[(m, path_cost-self.h(m))] = (node,cost1)\n",
    "                            stack.append([m,path_cost-self.h(m)])\n",
    "                            \n",
    "            self.u=min_fringe\n",
    "        while True:      \n",
    "            min_fringe=float('inf')\n",
    "            IDA(start,goal,threshold, min_fringe)\n",
    "            count_node.append(count)\n",
    "            threshold=self.u\n",
    "            if s!=0:\n",
    "                break     \n",
    "        print('Number of nodes expanded in each iteration: ', count_node)\n",
    "        print('Total nodes expanded: ', sum(count_node))\n",
    "        curr = (goal, min_goal)\n",
    "        #print path\n",
    "        lst=[]\n",
    "        while (curr != None):\n",
    "            lst.append(curr)\n",
    "            if curr==(start,0):\n",
    "                break\n",
    "            curr = par1[curr]\n",
    "        lst.reverse()\n",
    "        lst1=[i[0] for i in lst]\n",
    "        s1=0\n",
    "        for i in range(len(lst1)-1):\n",
    "            for j in map[lst1[i]]:\n",
    "                if j[0]==lst1[i+1]:\n",
    "                    s1+=j[1]\n",
    "        print('Total cost: ',s1, 'dong')  \n",
    "        print('Path: ')\n",
    "        return lst1\n",
    "            \n",
    "        \n",
    "\n",
    "            \n",
    "        "
   ]
  },
  {
   "cell_type": "code",
   "execution_count": 18,
   "id": "4fe6cf3e",
   "metadata": {},
   "outputs": [
    {
     "name": "stdout",
     "output_type": "stream",
     "text": [
      "[['LaoCai' 'HaGiang' 300000]\n",
      " ['LaoCai' 'VietTri' 312000]\n",
      " ['LaoCai' 'SonLa' 375000]\n",
      " ['HaGiang' 'CaoBang' 373500]\n",
      " ['HaGiang' 'VietTri' 324000]]\n"
     ]
    }
   ],
   "source": [
    "# travelling cost between adjacent cities\n",
    "df=pd.read_csv('../data/route-info.csv')\n",
    "data=df.to_numpy()\n",
    "df1=pd.read_csv('../data/air-info.csv')\n",
    "data1=df1.to_numpy()\n",
    "highway_data=data\n",
    "flight_fee=data1\n",
    "fee=highway_data[:,2:3]*1500+highway_data[:,3:4]*1000\n",
    "highway_fee=np.hstack((highway_data[:,:2],fee))\n",
    "#\n",
    "final_fee=highway_fee\n",
    "final_fee=np.vstack((final_fee,flight_fee))        \n",
    "print(final_fee[0:5])"
   ]
  },
  {
   "cell_type": "code",
   "execution_count": 19,
   "id": "33e21108",
   "metadata": {},
   "outputs": [
    {
     "name": "stdout",
     "output_type": "stream",
     "text": [
      "{'LaoCai': [('HaGiang', 300000), ('VietTri', 312000), ('SonLa', 375000), ('NhaTrang', 2000000)], 'HaGiang': [('LaoCai', 300000), ('CaoBang', 373500), ('VietTri', 324000)], 'VietTri': [('LaoCai', 312000), ('HaGiang', 324000), ('HaNoi', 120000), ('HoaBinh', 118500), ('SonLa', 340500)], 'SonLa': [('LaoCai', 375000), ('HoaBinh', 345000), ('VietTri', 340500)], 'CaoBang': [('HaGiang', 373500), ('LangSon', 187500)], 'LangSon': [('CaoBang', 187500), ('QuangNinh', 217500), ('HaNoi', 309000)], 'QuangNinh': [('LangSon', 217500), ('HaiPhong', 115500), ('HaNoi', 326000), ('DaNang', 1600000)], 'HaNoi': [('LangSon', 309000), ('QuangNinh', 326000), ('HaiPhong', 177000), ('HoaBinh', 111000), ('VietTri', 120000), ('NinhBinh', 157500), ('Pleiku', 1800000)], 'HaiPhong': [('QuangNinh', 115500), ('HaNoi', 177000), ('HoChiMinh', 3500000)], 'HoaBinh': [('HaNoi', 111000), ('NinhBinh', 270000), ('SonLa', 345000), ('VietTri', 118500)], 'NinhBinh': [('HaNoi', 157500), ('HoaBinh', 270000), ('ThanhHoa', 82500)], 'ThanhHoa': [('NinhBinh', 82500), ('Vinh', 228000)], 'Vinh': [('ThanhHoa', 228000), ('Hue', 549000)], 'Hue': [('Vinh', 549000), ('DaNang', 142500), ('QuangNam', 270000)], 'DaNang': [('Hue', 142500), ('QuangNam', 144000), ('Pleiku', 508500), ('QuangNinh', 1600000)], 'QuangNam': [('Hue', 270000), ('DaNang', 144000), ('Pleiku', 387000)], 'Pleiku': [('QuangNam', 387000), ('DaNang', 508500), ('BinhDinh', 220500), ('PhuYen', 280500), ('NhaTrang', 570000), ('DaLat', 423000), ('HaNoi', 1800000)], 'BinhDinh': [('Pleiku', 220500), ('PhuYen', 219000)], 'PhuYen': [('Pleiku', 280500), ('BinhDinh', 219000), ('NhaTrang', 217500)], 'NhaTrang': [('Pleiku', 570000), ('PhuYen', 217500), ('NinhThuan', 169500), ('DaLat', 165000), ('LaoCai', 2000000)], 'DaLat': [('Pleiku', 423000), ('NinhThuan', 126000), ('NhaTrang', 165000), ('BinhDuong', 502500)], 'NinhThuan': [('NhaTrang', 169500), ('DaLat', 126000), ('PhanThiet', 213000)], 'PhanThiet': [('NinhThuan', 213000), ('BienHoa', 338500), ('VungTau', 258000)], 'BinhDuong': [('DaLat', 502500), ('BienHoa', 105000), ('HoChiMinh', 108000)], 'BienHoa': [('BinhDuong', 105000), ('PhanThiet', 338500), ('HoChiMinh', 245000), ('VungTau', 120000)], 'HoChiMinh': [('BinhDuong', 108000), ('BienHoa', 245000), ('VungTau', 142500), ('LongAn', 81000), ('HaiPhong', 3500000)], 'VungTau': [('BienHoa', 120000), ('PhanThiet', 258000), ('HoChiMinh', 142500), ('LongAn', 216000)], 'LongAn': [('VungTau', 216000), ('HoChiMinh', 81000), ('VinhLong', 136500)], 'VinhLong': [('LongAn', 136500), ('CanTho', 55500)], 'CanTho': [('VinhLong', 55500), ('AnGiang', 162000), ('CaMau', 210000)], 'AnGiang': [('CanTho', 162000)], 'CaMau': [('CanTho', 210000)]}\n"
     ]
    }
   ],
   "source": [
    "map=dict()\n",
    "for i in final_fee:\n",
    "    map[i[0]]=map.get(i[0],[])\n",
    "    map[i[0]].append((i[1],i[2]))\n",
    "    map[i[1]]=map.get(i[1],[])\n",
    "    map[i[1]].append((i[0],i[2]))\n",
    "cities_lst=map.keys()\n",
    "print(map)"
   ]
  },
  {
   "cell_type": "code",
   "execution_count": 20,
   "id": "dee5e8bd",
   "metadata": {
    "scrolled": true
   },
   "outputs": [],
   "source": [
    "# getting heuristics data\n",
    "df2=pd.read_csv('../data/city-label.csv', header=None)\n",
    "da=df2.to_numpy()\n",
    "da=da.reshape((2,-1))\n",
    "label=dict()\n",
    "da=list(da)\n",
    "for i in range(len(da[0])):\n",
    "    label[da[0][i]]=i\n",
    "df1=pd.read_csv('../data/heuristics.csv', header=None)\n",
    "data1=df1.to_numpy()"
   ]
  },
  {
   "cell_type": "code",
   "execution_count": 23,
   "id": "73d4f0fd",
   "metadata": {},
   "outputs": [
    {
     "name": "stdout",
     "output_type": "stream",
     "text": [
      "Heuristics\n",
      "{'LaoCai': 2082000.0, 'HaGiang': 2107500.0, 'CaoBang': 2059500.0, 'LangSon': 1918500.0, 'QuangNinh': 1767000.0, 'HaiPhong': 1755000.0, 'HaNoi': 1792500.0, 'NinhBinh': 1662000.0, 'HoaBinh': 1767000.0, 'VietTri': 1849500.0, 'ThanhHoa': 1591500.0, 'Vinh': 1405500.0, 'Hue': 1023000.0, 'QuangNam': 900000.0, 'Pleiku': 625500.0, 'BinhDinh': 700500.0, 'PhuYen': 586500.0, 'NhaTrang': 471000.0, 'NinhThuan': 376500.0, 'DaLat': 346500.0, 'BinhDuong': 126000.0, 'BienHoa': 108000.0, 'PhanThiet': 193500.0, 'VungTau': 0.0, 'LongAn': 112500.0, 'VinhLong': 181500.0, 'CanTho': 217500.0, 'SonLa': 1900500.0, 'HoChiMinh': 93000.0, 'CaMau': 372000.0, 'AnGiang': 268500.0, 'DaNang': 973500.0}\n"
     ]
    }
   ],
   "source": [
    "# find straight-line distance from start city to other cities\n",
    "start='HaiPhong'\n",
    "destination='VungTau'\n",
    "def find_heuristic(start, destination):\n",
    "    if destination not in cities_lst:\n",
    "        raise Exception(\"this city is not included in the map\")\n",
    "    data3=[]\n",
    "    index=label[destination]\n",
    "    for i in label:\n",
    "        data3.append([i, data1[index,label[i]]])\n",
    "    return data3\n",
    "data4=find_heuristic(start, destination)\n",
    "print('Heuristics')\n",
    "\n",
    "h=dict()\n",
    "for i in data4:\n",
    "    h[i[0]]=h.get(i[0],0 )+float(i[1]*1500)\n",
    "def H(n):\n",
    "    return h[n]  \n",
    "print(h)"
   ]
  },
  {
   "cell_type": "code",
   "execution_count": 24,
   "id": "f78e66ab",
   "metadata": {},
   "outputs": [
    {
     "name": "stdout",
     "output_type": "stream",
     "text": [
      "Number of nodes expanded in each iteration:  [3, 7, 14, 15, 18, 20, 22, 26, 28, 33, 36, 38, 42, 49, 56, 58, 61, 64, 67, 69, 71, 78, 85, 87, 90, 95, 98, 102, 104, 106, 108, 112, 119, 121, 125, 129, 133, 136, 138, 142, 156, 160, 162, 165, 167, 169, 171, 177, 180, 182, 186, 188, 191, 193, 198, 202, 206, 209, 214, 217, 225, 228, 233, 235, 237, 241, 246, 261, 266, 275, 279, 280, 284, 286, 289, 296, 310, 317, 319, 321, 326, 332, 335, 342, 346, 360, 362, 364, 369, 376, 382, 396, 399, 407, 409, 415, 417, 432, 434, 439, 446, 450, 470, 475, 477, 480, 483, 486, 488, 494, 497, 501, 513, 515, 517, 534, 536, 540, 544, 551, 554, 556, 572, 586, 588, 592, 600, 607, 609, 619, 621, 629, 633, 638, 642, 658, 660, 667, 673, 696, 709, 713, 730, 737, 739, 742, 744, 772, 776, 785, 794, 799, 806, 813, 823, 825, 827, 841, 845, 873, 877, 879, 883, 887, 891, 902, 919, 928, 939, 944, 947, 951, 954, 956, 968, 978, 984, 998, 1001, 1005, 1030, 1047, 1056, 1066, 1073, 1076, 1084, 1096, 1108, 1111, 1113, 1125, 1134, 1146, 1148, 1159, 1161, 1194, 1201, 1215, 1223, 1229, 1238, 1241, 1244, 1258, 1261, 1266, 1268, 1276, 1293, 1300, 1314, 1318, 1340, 1342, 1349, 1393, 1395, 1398, 1402, 1404, 1406, 1411, 1441, 1445, 1477, 1481, 1491, 1492, 1501, 1504, 1516, 1561, 1588, 1593, 1597, 1600, 1611, 1619, 1622, 1625, 1628, 1644, 1649, 1652, 1681, 1683, 1697, 1704, 1722, 1724, 1726, 1750, 1752, 1775, 1782, 1786, 1796, 1801, 1804, 1867, 1891, 1934, 1963, 1967, 1984, 1997, 2013, 2022, 2039, 2067, 2076, 2096, 2100, 2117, 2140, 2144, 2150, 2153, 2157, 2192, 2200, 2226, 2233, 2253, 2298, 2315, 2342, 2399, 2436, 2463, 2465, 2467, 2472, 2476, 2486, 2488, 2491, 2495, 2515, 2517, 2525, 2558, 2565, 2585, 2610, 2628, 2663, 2708, 2710, 2745, 2747, 2774, 2779, 2812, 2818, 2824, 2840, 2843, 2846, 2855, 2860, 2864, 2866, 2902, 2908, 2953, 2978, 2992, 3050, 3052, 3074, 3093, 3139, 3141, 3156, 3159, 3175, 3179, 3199, 3213, 3218, 3234, 3260, 3320, 3324, 3360, 3390, 3402, 3437, 3461, 3467, 3555, 3559, 3597, 3600, 3604, 3652, 3664, 3695, 3697, 3700, 3722, 3739, 3741, 3764, 3768, 3822, 3826, 3877, 3882, 3892, 3895, 3910, 3912, 3967, 4012, 4028, 4090, 4104, 4158, 4160, 4164, 4217, 4225, 4243, 4250, 4316, 4326, 4345, 4348, 4439, 4447, 4463, 4487, 4524, 4557, 4561, 4604, 4620, 4669, 4727, 4731, 4766, 4773, 4799, 4805, 4870, 4893, 4895, 4908, 4913, 4987, 5004, 5044, 5055, 5083, 5086, 5125, 5172, 5200, 5261, 5269, 5355, 5366, 5419, 5442, 5502, 5511, 5550, 5555, 5558, 5587, 5594, 5621, 5631, 5675, 5678, 5704, 5711, 5779, 5793, 5849, 5863, 5947, 5975, 6017, 6027, 6029, 6129, 6133, 6247, 6265, 6305, 6309, 6359, 6370, 6409, 6427, 6472, 6483, 6487, 6518, 6534, 6586, 6597, 6659, 6664, 6712, 6734, 6750, 6836, 6838, 6852, 6908, 6918, 7038, 7056, 7108, 7114, 7224, 7237, 7248, 7309, 7337, 7370, 7387, 7394, 7408, 7420, 7458, 7475, 7568, 7584, 7713, 7727, 7789, 7817, 7818, 7911, 7923, 7937, 8001, 8013, 8154, 8163, 8220]\n",
      "Total nodes expanded:  1301271\n",
      "Total cost:  2865000 dong\n",
      "Path: \n",
      "HaiPhong --> HaNoi --> NinhBinh --> ThanhHoa --> Vinh --> Hue --> DaNang --> Pleiku --> DaLat --> NinhThuan --> PhanThiet --> VungTau\n",
      "time:  26.58447790145874\n"
     ]
    }
   ],
   "source": [
    "# output\n",
    "begin=time.time()\n",
    "solver=Graph(map)\n",
    "path1=solver.iterative_deepening_a_star(start,destination)\n",
    "print(*path1, sep=' --> ')\n",
    "end=time.time()\n",
    "print('time: ',end - begin)"
   ]
  },
  {
   "cell_type": "code",
   "execution_count": 12,
   "id": "fe3b118c",
   "metadata": {},
   "outputs": [
    {
     "name": "stdout",
     "output_type": "stream",
     "text": [
      "Test 1: CaoBang -> NinhThuan\n",
      "Total nodes expanded:  2284124\n",
      "Total cost:  2713500 dong\n",
      "Path: \n",
      "CaoBang --> LangSon --> HaNoi --> NinhBinh --> ThanhHoa --> Vinh --> Hue --> DaNang --> Pleiku --> DaLat --> NinhThuan\n",
      "Total execution time: 76.71246409416199\n"
     ]
    }
   ],
   "source": [
    "# randomise different instances\n",
    "# IDA* takes a really long time to solve complicated (huge branching factor) paths, \n",
    "# thus we will not generate 50 instances at once\n",
    "count = 0\n",
    "cities_test = copy.deepcopy(list(cities_lst))\n",
    "time_lst = []  # list of running time for analysis\n",
    "\n",
    "\n",
    "start_indx = randint(0, 31)\n",
    "end_indx = randint(0, 31)\n",
    "\n",
    "start_test = cities_test[start_indx]\n",
    "end_test = cities_test[end_indx]\n",
    "print(f'Test: {cities_test[start_indx]} -> {cities_test[end_indx]}')\n",
    "    \n",
    "start_time = time.time()\n",
    "solver = Graph(map)\n",
    "path = solver.iterative_deepening_a_star(start_test, end_test)\n",
    "print(*path, sep=' --> ')\n",
    "end_time = time.time()\n",
    "time_lst.append(end_time-start_time)\n",
    "print('Total execution time:', end_time-start_time)\n"
   ]
  },
  {
   "cell_type": "code",
   "execution_count": null,
   "id": "4395ec62",
   "metadata": {},
   "outputs": [],
   "source": [
    "# import csv\n",
    "# header = [i for i in range(1, 51)]\n",
    "# dat = time_lst\n",
    "\n",
    "# with open('ida_star.csv', 'w') as f1:\n",
    "#     writer = csv.writer(f1)\n",
    "#     writer.writerow(header)\n",
    "#     writer.writerow(dat)"
   ]
  },
  {
   "cell_type": "code",
   "execution_count": null,
   "id": "ecfaec40",
   "metadata": {},
   "outputs": [],
   "source": []
  }
 ],
 "metadata": {
  "kernelspec": {
   "display_name": "Python 3",
   "language": "python",
   "name": "python3"
  },
  "language_info": {
   "codemirror_mode": {
    "name": "ipython",
    "version": 3
   },
   "file_extension": ".py",
   "mimetype": "text/x-python",
   "name": "python",
   "nbconvert_exporter": "python",
   "pygments_lexer": "ipython3",
   "version": "3.8.5"
  }
 },
 "nbformat": 4,
 "nbformat_minor": 5
}
