{
 "cells": [
  {
   "cell_type": "code",
   "execution_count": 1,
   "id": "a7f3aa8e",
   "metadata": {},
   "outputs": [],
   "source": [
    "!pip install -q matplotlib\n",
    "!pip install -q pandas"
   ]
  },
  {
   "cell_type": "code",
   "execution_count": 2,
   "id": "e1de92ae",
   "metadata": {},
   "outputs": [],
   "source": [
    "import matplotlib.pyplot as plt\n",
    "import pandas as pd\n",
    "import numpy as np"
   ]
  },
  {
   "cell_type": "code",
   "execution_count": 6,
   "id": "6a73227e",
   "metadata": {},
   "outputs": [],
   "source": [
    "df_a_star = pd.read_csv('Informed-Search/a_star.csv', header=None)\n",
    "df_ida_star = pd.read_csv('Informed-Search/ida_star.csv', header=None)\n",
    "df_ucs = pd.read_csv('Uninformed-Search/ucs.csv', header=None)\n",
    "df_gbfs = pd.read_csv('Uninformed-Search/gbfs.csv', header=None)"
   ]
  },
  {
   "cell_type": "code",
   "execution_count": 7,
   "id": "8d7f9d6c",
   "metadata": {},
   "outputs": [
    {
     "data": {
      "text/html": [
       "<div>\n",
       "<style scoped>\n",
       "    .dataframe tbody tr th:only-of-type {\n",
       "        vertical-align: middle;\n",
       "    }\n",
       "\n",
       "    .dataframe tbody tr th {\n",
       "        vertical-align: top;\n",
       "    }\n",
       "\n",
       "    .dataframe thead th {\n",
       "        text-align: right;\n",
       "    }\n",
       "</style>\n",
       "<table border=\"1\" class=\"dataframe\">\n",
       "  <thead>\n",
       "    <tr style=\"text-align: right;\">\n",
       "      <th></th>\n",
       "      <th>0</th>\n",
       "      <th>1</th>\n",
       "    </tr>\n",
       "  </thead>\n",
       "  <tbody>\n",
       "    <tr>\n",
       "      <th>0</th>\n",
       "      <td>1.0</td>\n",
       "      <td>0.000338</td>\n",
       "    </tr>\n",
       "    <tr>\n",
       "      <th>1</th>\n",
       "      <td>2.0</td>\n",
       "      <td>0.000830</td>\n",
       "    </tr>\n",
       "    <tr>\n",
       "      <th>2</th>\n",
       "      <td>3.0</td>\n",
       "      <td>0.000795</td>\n",
       "    </tr>\n",
       "    <tr>\n",
       "      <th>3</th>\n",
       "      <td>4.0</td>\n",
       "      <td>0.000518</td>\n",
       "    </tr>\n",
       "    <tr>\n",
       "      <th>4</th>\n",
       "      <td>5.0</td>\n",
       "      <td>0.001013</td>\n",
       "    </tr>\n",
       "  </tbody>\n",
       "</table>\n",
       "</div>"
      ],
      "text/plain": [
       "     0         1\n",
       "0  1.0  0.000338\n",
       "1  2.0  0.000830\n",
       "2  3.0  0.000795\n",
       "3  4.0  0.000518\n",
       "4  5.0  0.001013"
      ]
     },
     "execution_count": 7,
     "metadata": {},
     "output_type": "execute_result"
    }
   ],
   "source": [
    "df_a_star.head()"
   ]
  },
  {
   "cell_type": "code",
   "execution_count": 8,
   "id": "de6fdff2",
   "metadata": {},
   "outputs": [],
   "source": [
    "df_a_star.columns = ['Test', 'A* Search']\n",
    "df_a_star.set_index('Test', inplace=True)\n",
    "\n",
    "df_ida_star.columns = ['Test', 'IDA* Search']\n",
    "df_ida_star.set_index('Test', inplace=True)\n",
    "\n",
    "df_ucs.columns = ['Test', 'UCS']\n",
    "df_ucs.set_index('Test', inplace=True)\n",
    "\n",
    "df_gbfs.columns = ['Test', 'GBFS']\n",
    "df_gbfs.set_index('Test', inplace=True)"
   ]
  },
  {
   "cell_type": "code",
   "execution_count": 9,
   "id": "35e12f36",
   "metadata": {},
   "outputs": [
    {
     "data": {
      "image/png": "[encoded data removed]",
      "text/plain": [
       "<Figure size 864x432 with 1 Axes>"
      ]
     },
     "metadata": {
      "needs_background": "light"
     },
     "output_type": "display_data"
    }
   ],
   "source": [
    "plt.figure(figsize=(12, 6))\n",
    "\n",
    "plt.plot(df_a_star.index, df_a_star['A* Search'], label='A* Search')\n",
    "plt.plot(df_ida_star.index, df_ida_star['IDA* Search'], label='IDA* Search')\n",
    "plt.plot(df_ucs.index, df_ucs['UCS'], label='UCS')\n",
    "plt.plot(df_gbfs.index, df_bgfs['GBFS'], label='GBFS')\n",
    "\n",
    "\n",
    "plt.legend(loc='upper left')\n",
    "plt.suptitle('Running time comparison of different algorithms')\n",
    "plt.xlabel('Test index')\n",
    "plt.ylabel('Running time (s)')\n",
    "plt.savefig('running-time.jpeg')"
   ]
  },
  {
   "cell_type": "code",
   "execution_count": null,
   "id": "7f042bbb",
   "metadata": {},
   "outputs": [],
   "source": []
  }
 ],
 "metadata": {
  "kernelspec": {
   "display_name": "Python 3",
   "language": "python",
   "name": "python3"
  },
  "language_info": {
   "codemirror_mode": {
    "name": "ipython",
    "version": 3
   },
   "file_extension": ".py",
   "mimetype": "text/x-python",
   "name": "python",
   "nbconvert_exporter": "python",
   "pygments_lexer": "ipython3",
   "version": "3.8.5"
  }
 },
 "nbformat": 4,
 "nbformat_minor": 5
}
