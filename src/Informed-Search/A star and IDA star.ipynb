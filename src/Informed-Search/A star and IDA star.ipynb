{
 "cells": [
  {
   "cell_type": "code",
   "execution_count": 1,
   "id": "7ad4313d",
   "metadata": {},
   "outputs": [],
   "source": [
    "class Graph:\n",
    "    def __init__(self, graph_dict):\n",
    "        self.graph_dict = graph_dict\n",
    " \n",
    "    def neighbors(self, v):\n",
    "        return self.graph_dict[v]\n",
    " \n",
    "    def h(self, n):\n",
    "        return H(n)\n",
    "    \n",
    " \n",
    "    def a_star_algorithm(self, start, stop):\n",
    "        active_lst = set([start])\n",
    "        finished_lst = set([])\n",
    " \n",
    "\n",
    "        cost = {}\n",
    "        cost[start] = 0\n",
    " \n",
    "        par = {}\n",
    "        par[start] = start\n",
    " \n",
    "        while len(active_lst) > 0:\n",
    "\n",
    "            n = None\n",
    " \n",
    "            # it will find a node with the lowest value of f() -\n",
    "            for v in active_lst:\n",
    "                if n == None or cost[v] + self.h(v) < cost[n] + self.h(n):\n",
    "                    n = v;\n",
    " \n",
    "            if n == None:\n",
    "                print('Path does not exist!')\n",
    "                return None\n",
    " \n",
    "            # if the current node is the stop\n",
    "            # then we start again from start\n",
    "            if n == stop:\n",
    "                reconst_path = []\n",
    " \n",
    "                while par[n] != n:\n",
    "                    reconst_path.append(n)\n",
    "                    n = par[n]\n",
    " \n",
    "                reconst_path.append(start)\n",
    " \n",
    "                reconst_path.reverse()\n",
    " \n",
    "                print('Path found: {}'.format(reconst_path))\n",
    "                return reconst_path\n",
    "            for i in self.neighbors(n):\n",
    "                m=i[0]\n",
    "                weight=i[1]\n",
    "        \n",
    "                if m not in active_lst and m not in finished_lst:\n",
    "                    active_lst.add(m)\n",
    "                    par[m] = n\n",
    "                    cost[m] = cost[n] + weight\n",
    "                else:\n",
    "                    if cost[m] > cost[n] + weight:\n",
    "                        cost[m] = cost[n] + weight\n",
    "                        par[m] = n\n",
    " \n",
    "                        if m in finished_lst:\n",
    "                            finished_lst.remove(m)\n",
    "                            active_lst.add(m)\n",
    " \n",
    "            active_lst.remove(n)\n",
    "            finished_lst.add(n)\n",
    " \n",
    "        print('Path does not exist!')\n",
    "        return None\n",
    "    \n",
    "    def iterative_deepening_a_star(self,start, goal):\n",
    "        min_fringe=0\n",
    "        threshold=self.h(start)\n",
    "        self.u=0\n",
    "        def IDA(start, goal, threshold, min_fringe):\n",
    "            global path_cost\n",
    "            global par\n",
    "            global real_path\n",
    "            global par1\n",
    "            global s\n",
    "            global u\n",
    "            s=0\n",
    "            par=dict()\n",
    "            visited=set()\n",
    "            visited.add(start)\n",
    "            stack=[[start,0]]\n",
    "            min_goal=float('inf')\n",
    "            while len(stack)!=0:\n",
    "                node, cost=stack.pop()\n",
    "                visited.add(node)\n",
    "                if node==goal:\n",
    "#                     print('threshhold',threshold)\n",
    "                    s+=1\n",
    "                    if path_cost<min_goal:\n",
    "                        min_goal=path_cost\n",
    "                        par1=par.copy()    \n",
    "                for m, weight in self.neighbors(node):                    \n",
    "                    if m not in visited:\n",
    "                        path_cost=cost+weight+self.h(m)\n",
    "                        par[m] = node\n",
    "#                         print('pathcost of ', m, path_cost)\n",
    "                        if path_cost> threshold:\n",
    "                            if path_cost<min_fringe:\n",
    "                                min_fringe=path_cost                            \n",
    "                        else:\n",
    "                            stack.append([m,path_cost-self.h(m)])\n",
    "            self.u=min_fringe\n",
    "        while True:           \n",
    "            min_fringe=float('inf')\n",
    "            IDA(start,goal,threshold, min_fringe)\n",
    "            threshold=self.u\n",
    "            \n",
    "            if s!=0:\n",
    "                break\n",
    "        curr = goal\n",
    "        lst=[]\n",
    "        while (curr != None):\n",
    "            lst.append(curr)\n",
    "            if curr==start:\n",
    "                break\n",
    "            curr = par1[curr]\n",
    "        lst.reverse()\n",
    "        return lst\n",
    "            \n",
    "        \n",
    "\n",
    "            \n",
    "        "
   ]
  },
  {
   "cell_type": "code",
   "execution_count": null,
   "id": "f8a3e4d6",
   "metadata": {},
   "outputs": [],
   "source": []
  },
  {
   "cell_type": "code",
   "execution_count": 2,
   "id": "4fe6cf3e",
   "metadata": {},
   "outputs": [],
   "source": [
    "import numpy as np\n",
    "import pandas as pd\n",
    "df=pd.read_csv('route-info.csv')\n",
    "data=df.to_numpy()\n"
   ]
  },
  {
   "cell_type": "code",
   "execution_count": 3,
   "id": "5f5b587b",
   "metadata": {},
   "outputs": [],
   "source": [
    "highway_data=data[0:50]\n",
    "flight_fee=data[-5:,:-1]\n",
    "\n",
    "fee=highway_data[:,2:3]*1500+highway_data[:,3:4]\n",
    "highway_fee=np.hstack((highway_data[:,:2],fee))\n"
   ]
  },
  {
   "cell_type": "code",
   "execution_count": 4,
   "id": "12c680a5",
   "metadata": {
    "scrolled": true
   },
   "outputs": [],
   "source": [
    "\n",
    "final_fee=highway_fee\n"
   ]
  },
  {
   "cell_type": "code",
   "execution_count": 5,
   "id": "6653dbe3",
   "metadata": {},
   "outputs": [],
   "source": [
    "\n",
    "final_fee=np.vstack((final_fee,flight_fee))        "
   ]
  },
  {
   "cell_type": "code",
   "execution_count": 6,
   "id": "33e21108",
   "metadata": {},
   "outputs": [
    {
     "name": "stdout",
     "output_type": "stream",
     "text": [
      "LaoCai [('HaGiang', 300000.0), ('VietTri', 312000.0), ('SonLa', 375000.0), ('NhaTrang', 1600000.0)]\n",
      "HaGiang [('LaoCai', 300000.0), ('CaoBang', 373500.0), ('VietTri', 324000.0)]\n",
      "VietTri [('LaoCai', 312000.0), ('HaGiang', 324000.0), ('HaNoi', 120000.0), ('HoaBinh', 118500.0), ('SonLa', 340500.0)]\n",
      "SonLa [('LaoCai', 375000.0), ('HoaBinh', 345000.0), ('VietTri', 340500.0)]\n",
      "CaoBang [('HaGiang', 373500.0), ('LangSon', 187500.0)]\n",
      "LangSon [('CaoBang', 187500.0), ('QuangNinh', 217500.0), ('HaNoi', 309000.0)]\n",
      "QuangNinh [('LangSon', 217500.0), ('HaiPhong', 115500.0), ('HaNoi', 276050.0), ('DaNang', 1000000.0)]\n",
      "HaNoi [('LangSon', 309000.0), ('QuangNinh', 276050.0), ('HaiPhong', 177000.0), ('HoaBinh', 111000.0), ('VietTri', 120000.0), ('NinhBinh', 157500.0), ('HoChiMinh', 2000000.0), ('Pleiku', 1200000.0)]\n",
      "HaiPhong [('QuangNinh', 115500.0), ('HaNoi', 177000.0), ('HoChiMinh', 2000000.0)]\n",
      "HoaBinh [('HaNoi', 111000.0), ('NinhBinh', 180090.0), ('SonLa', 345000.0), ('VietTri', 118500.0)]\n",
      "NinhBinh [('HaNoi', 157500.0), ('HoaBinh', 180090.0), ('ThanhHoa', 82500.0)]\n",
      "ThanhHoa [('NinhBinh', 82500.0), ('Vinh', 228000.0)]\n",
      "Vinh [('ThanhHoa', 228000.0), ('Hue', 549000.0)]\n",
      "Hue [('Vinh', 549000.0), ('DaNang', 142500.0), ('QuangNam', 270000.0)]\n",
      "DaNang [('Hue', 142500.0), ('QuangNam', 144000.0), ('Pleiku', 508500.0), ('QuangNinh', 1000000.0)]\n",
      "QuangNam [('Hue', 270000.0), ('DaNang', 144000.0), ('Pleiku', 387000.0)]\n",
      "Pleiku [('QuangNam', 387000.0), ('DaNang', 508500.0), ('BinhDinh', 220500.0), ('PhuYen', 280500.0), ('NhaTrang', 420150.0), ('DaLat', 423000.0), ('HaNoi', 1200000.0)]\n",
      "BinhDinh [('Pleiku', 220500.0), ('PhuYen', 219000.0)]\n",
      "PhuYen [('Pleiku', 280500.0), ('BinhDinh', 219000.0), ('NhaTrang', 217500.0)]\n",
      "NhaTrang [('Pleiku', 420150.0), ('PhuYen', 217500.0), ('NinhThuan', 169500.0), ('DaLat', 165000.0), ('LaoCai', 1600000.0)]\n",
      "DaLat [('Pleiku', 423000.0), ('NinhThuan', 126000.0), ('NhaTrang', 165000.0), ('BinhDuong', 502500.0)]\n",
      "NinhThuan [('NhaTrang', 169500.0), ('DaLat', 126000.0), ('PhanThiet', 213000.0)]\n",
      "PhanThiet [('NinhThuan', 213000.0), ('BienHoa', 268570.0), ('VungTau', 258000.0)]\n",
      "BinhDuong [('DaLat', 502500.0), ('BienHoa', 105000.0), ('HoChiMinh', 108000.0)]\n",
      "BienHoa [('BinhDuong', 105000.0), ('PhanThiet', 268570.0), ('HoChiMinh', 45200.0), ('VungTau', 120000.0)]\n",
      "HoChiMinh [('BinhDuong', 108000.0), ('BienHoa', 45200.0), ('VungTau', 142500.0), ('LongAn', 81000.0), ('HaNoi', 2000000.0), ('HaiPhong', 2000000.0)]\n",
      "VungTau [('BienHoa', 120000.0), ('PhanThiet', 258000.0), ('HoChiMinh', 142500.0), ('LongAn', 216000.0)]\n",
      "LongAn [('VungTau', 216000.0), ('HoChiMinh', 81000.0), ('VinhLong', 136500.0)]\n",
      "VinhLong [('LongAn', 136500.0), ('CanTho', 55500.0)]\n",
      "CanTho [('VinhLong', 55500.0), ('AnGiang', 162000.0), ('CaMau', 210000.0)]\n",
      "AnGiang [('CanTho', 162000.0)]\n",
      "CaMau [('CanTho', 210000.0)]\n"
     ]
    }
   ],
   "source": [
    "map=dict()\n",
    "for i in final_fee:\n",
    "    map[i[0]]=map.get(i[0],[])\n",
    "    map[i[0]].append((i[1],i[2]))\n",
    "    map[i[1]]=map.get(i[1],[])\n",
    "    map[i[1]].append((i[0],i[2]))\n",
    "for i in map:\n",
    "    print(i, map[i])"
   ]
  },
  {
   "cell_type": "code",
   "execution_count": 7,
   "id": "9696610d",
   "metadata": {},
   "outputs": [],
   "source": [
    "df1=pd.read_csv('heuristic.csv', header=None)\n",
    "data1=df1.to_numpy()\n",
    "h=dict()\n",
    "for i in data1:\n",
    "    h[i[0]]=h.get(i[0],0 )+float(i[1]*1500)\n",
    "def H(n):\n",
    "    return h[n]\n"
   ]
  },
  {
   "cell_type": "code",
   "execution_count": 8,
   "id": "73d4f0fd",
   "metadata": {},
   "outputs": [],
   "source": [
    "start='CaMau'\n",
    "destination='HaNoi'"
   ]
  },
  {
   "cell_type": "code",
   "execution_count": 9,
   "id": "58e533ce",
   "metadata": {
    "scrolled": true
   },
   "outputs": [
    {
     "name": "stdout",
     "output_type": "stream",
     "text": [
      "Path found: ['CaMau', 'CanTho', 'VinhLong', 'LongAn', 'HoChiMinh', 'HaNoi']\n"
     ]
    },
    {
     "data": {
      "text/plain": [
       "['CaMau', 'CanTho', 'VinhLong', 'LongAn', 'HoChiMinh', 'HaNoi']"
      ]
     },
     "execution_count": 9,
     "metadata": {},
     "output_type": "execute_result"
    }
   ],
   "source": [
    "solver=Graph(map)\n",
    "solver.a_star_algorithm(start,destination)\n"
   ]
  },
  {
   "cell_type": "code",
   "execution_count": 10,
   "id": "f78e66ab",
   "metadata": {},
   "outputs": [
    {
     "data": {
      "text/plain": [
       "['CaMau', 'CanTho', 'VinhLong', 'LongAn', 'HoChiMinh', 'HaNoi']"
      ]
     },
     "execution_count": 10,
     "metadata": {},
     "output_type": "execute_result"
    }
   ],
   "source": [
    "solver.iterative_deepening_a_star(start,destination)"
   ]
  },
  {
   "cell_type": "code",
   "execution_count": 11,
   "id": "b8a033ba",
   "metadata": {},
   "outputs": [],
   "source": [
    "\n",
    "# map1 = {'S' :5,\n",
    "#      'A': 3,\n",
    "#     'B': 4,\n",
    "#     'C': 2,\n",
    "#     'D': 6,\n",
    "#      'G': 0\n",
    "# }\n",
    "# def H(n):\n",
    "#     return map1[n]\n",
    "# adjac_lis = {\n",
    "#     'S': [('A', 1), ('G',20)],\n",
    "#     'A': [('B', 2), ('C',1), ('G',18)],\n",
    "#     'C': [('D', 30), ('G', 40),('A',1)],\n",
    "#     'B' : [('D',5)],\n",
    "#     'D' : [('G',2)]\n",
    "# }\n",
    "# graph1 = Graph(adjac_lis)\n",
    "# graph1.a_star_algorithm('S', 'G')"
   ]
  },
  {
   "cell_type": "code",
   "execution_count": null,
   "id": "9a3f4794",
   "metadata": {},
   "outputs": [],
   "source": []
  },
  {
   "cell_type": "code",
   "execution_count": null,
   "id": "168f00dc",
   "metadata": {},
   "outputs": [],
   "source": []
  },
  {
   "cell_type": "code",
   "execution_count": null,
   "id": "19af95aa",
   "metadata": {},
   "outputs": [],
   "source": []
  },
  {
   "cell_type": "code",
   "execution_count": null,
   "id": "a02a5955",
   "metadata": {},
   "outputs": [],
   "source": []
  },
  {
   "cell_type": "code",
   "execution_count": null,
   "id": "c9741390",
   "metadata": {},
   "outputs": [],
   "source": []
  },
  {
   "cell_type": "code",
   "execution_count": null,
   "id": "56d03737",
   "metadata": {},
   "outputs": [],
   "source": []
  },
  {
   "cell_type": "code",
   "execution_count": null,
   "id": "19ebe66b",
   "metadata": {},
   "outputs": [],
   "source": []
  },
  {
   "cell_type": "code",
   "execution_count": null,
   "id": "1a87655a",
   "metadata": {},
   "outputs": [],
   "source": []
  },
  {
   "cell_type": "code",
   "execution_count": null,
   "id": "26d1476f",
   "metadata": {},
   "outputs": [],
   "source": []
  },
  {
   "cell_type": "code",
   "execution_count": null,
   "id": "961294bf",
   "metadata": {},
   "outputs": [],
   "source": []
  },
  {
   "cell_type": "code",
   "execution_count": null,
   "id": "ac314f8e",
   "metadata": {},
   "outputs": [],
   "source": []
  },
  {
   "cell_type": "code",
   "execution_count": null,
   "id": "a6340da9",
   "metadata": {},
   "outputs": [],
   "source": []
  },
  {
   "cell_type": "code",
   "execution_count": null,
   "id": "784df93a",
   "metadata": {},
   "outputs": [],
   "source": []
  },
  {
   "cell_type": "code",
   "execution_count": null,
   "id": "1af04810",
   "metadata": {},
   "outputs": [],
   "source": []
  }
 ],
 "metadata": {
  "kernelspec": {
   "display_name": "Python 3",
   "language": "python",
   "name": "python3"
  },
  "language_info": {
   "codemirror_mode": {
    "name": "ipython",
    "version": 3
   },
   "file_extension": ".py",
   "mimetype": "text/x-python",
   "name": "python",
   "nbconvert_exporter": "python",
   "pygments_lexer": "ipython3",
   "version": "3.8.8"
  }
 },
 "nbformat": 4,
 "nbformat_minor": 5
}
